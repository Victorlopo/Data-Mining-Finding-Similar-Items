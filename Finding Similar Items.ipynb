{
  "nbformat": 4,
  "nbformat_minor": 0,
  "metadata": {
    "colab": {
      "provenance": []
    },
    "kernelspec": {
      "name": "python3",
      "display_name": "Python 3"
    },
    "language_info": {
      "name": "python"
    }
  },
  "cells": [
    {
      "cell_type": "markdown",
      "source": [
        "# **Finding Similar Items: Textually Similar Documents**\n",
        "\n",
        "I am implementing the stages of finding textually similar documents based on Jaccard similarity using the shingling, minhashing, and locality-sensitive hashing (LSH) techniques and corresponding algorithms.\n",
        "\n",
        "### Load data to google colab via google drive\n"
      ],
      "metadata": {
        "id": "Iin6ODy7S4Dk"
      }
    },
    {
      "cell_type": "code",
      "execution_count": null,
      "metadata": {
        "id": "GBhOczyGpoEm",
        "colab": {
          "base_uri": "https://localhost:8080/"
        },
        "outputId": "0e0a402e-edb7-4b18-f342-4b153a2844be"
      },
      "outputs": [
        {
          "output_type": "stream",
          "name": "stdout",
          "text": [
            "Mounted at /content/drive\n"
          ]
        }
      ],
      "source": [
        "#http://mlg.ucd.ie/datasets/bbc.html\n",
        "try:\n",
        "  import os\n",
        "  import pandas as pd\n",
        "  import numpy as np\n",
        "  import math\n",
        "  import binascii\n",
        "  import random\n",
        "  import sympy\n",
        "except:\n",
        "  print(\"Import Error\")\n",
        "\n",
        "#Importing data\n",
        "#With google docs\n",
        "from google.colab import drive\n",
        "drive.mount('/content/drive')\n",
        "paths =['drive/My Drive/Colab Notebooks/data/bbc-fulltext/bbc/']\n",
        "#OTHERWISE\n",
        "'''\n",
        "define paths = [HERE]\n",
        "'''\n",
        "\n",
        "def flatmap(array):\n",
        "  return [element for element in innerArray for innerArray in array]\n",
        "\n",
        "#Simple helper function\n",
        "def extract_to_txt(path):\n",
        "  with open(path) as f:\n",
        "    contents = f.readlines()\n",
        "  return contents\n",
        "\n",
        "\n",
        "df = []\n",
        "\n",
        "#Create DF with categories\n",
        "for folder in paths:\n",
        "  for topic in os.listdir(folder):\n",
        "    topic_pth = f\"{folder}{topic}/\"\n",
        "    for txt in os.listdir(topic_pth):\n",
        "        text = extract_to_txt(topic_pth+txt)\n",
        "        header = \"\".join(text[0])\n",
        "        df.append([header,\"\".join(text[1::]), topic])\n",
        "\n"
      ]
    },
    {
      "cell_type": "code",
      "source": [
        "df = pd.DataFrame(df, columns=[\"headline\", \"text\",\"label\"])\n",
        "\n",
        "print(df.columns)\n",
        "\n",
        "type(df.iloc[0].text)\n",
        "\n",
        "arr = []\n",
        "for id, ele in df.iterrows():\n",
        "  df.iloc[id].text = ele.text.replace(\"\\n\",\"\").replace('\"',\"\").lower()\n",
        "  df.iloc[id].headline = ele.headline.replace(\"\\n\",\"\").lower()\n",
        "\n",
        "\n",
        "print(df.head(5))"
      ],
      "metadata": {
        "id": "C-G7FivXt8OF",
        "colab": {
          "base_uri": "https://localhost:8080/"
        },
        "outputId": "b4233a4a-ea08-4c59-84ad-32ed70b48e5e"
      },
      "execution_count": null,
      "outputs": [
        {
          "output_type": "stream",
          "name": "stdout",
          "text": [
            "Index(['headline', 'text', 'label'], dtype='object')\n",
            "                               headline  \\\n",
            "0  iraqi voters turn to economic issues   \n",
            "1     bank holds interest rate at 4.75%   \n",
            "2     barclays profits hit record level   \n",
            "3       deadline nears for fiat-gm deal   \n",
            "4      market unfazed by aurora setback   \n",
            "\n",
            "                                                text     label  \n",
            "0  beyond the desperate security situation in ira...  business  \n",
            "1  the bank of england has left interest rates on...  business  \n",
            "2  barclays, the uk's third-biggest bank, has see...  business  \n",
            "3  fiat and general motors (gm) have until midnig...  business  \n",
            "4  as the aurora limped back to its dock on 20 ja...  business  \n"
          ]
        }
      ]
    },
    {
      "cell_type": "markdown",
      "source": [
        "\n",
        "### **1. Shingling function**\n",
        "\n",
        "Shingling constructs k–shingles of a given length k (e.g., 10) from a given document, computes a hash value for each unique shingle and represents the document in the form of an ordered set of its hashed k-shingles."
      ],
      "metadata": {
        "id": "E0kuesoToS17"
      }
    },
    {
      "cell_type": "code",
      "source": [
        "def shingling(k=5,txt=\"\"):\n",
        "  arr = []\n",
        "  for i in range(0,len(txt)-k):\n",
        "    arr.append(txt[i:i+k])\n",
        "  return set(arr)\n",
        "\n",
        "def toHash(shing_list):\n",
        "  return [binascii.crc32(bytes(x.encode('utf-8'))) for x in shing_list]\n",
        "\n",
        "shinglesDoc1 = shingling(8,df.iloc[0].text)\n",
        "shinglesDoc2 = shingling(8,df.iloc[1].text)\n",
        "print(shinglesDoc1)"
      ],
      "metadata": {
        "colab": {
          "base_uri": "https://localhost:8080/"
        },
        "id": "2wAulTMS6kHM",
        "outputId": "02395c97-bdae-4770-8bfa-4ef38f566e73"
      },
      "execution_count": null,
      "outputs": [
        {
          "output_type": "stream",
          "name": "stdout",
          "text": [
            "{'scientis', 'er, who ', 'vide; th', 'c bankin', 'ttracted', 'think th', 'f job cr', 'ol unive', 'reation,', 'iorities', 'n made w', 'he jorda', 'urity an', 'ckwatch ', ' says in', 'e of eco', 'index. b', 'rdinary ', 't months', 's still ', 'ion says', 'h the da', 'ut of wo', 'ment rat', 'l as boo', 'nemploym', 't bank e', 'ity, the', ' jordani', 'rship of', 'ty has b', 'rces can', 'about wh', 'al baath', 'ry, but ', 'rs and g', 'hat look', ' failed ', 'ing to w', 'about he', 'en made,', ' as boos', 'that are', 'o allow ', 'g into t', 'contract', 'reign ow', 'ry contr', 'nd beyon', \"'s infra\", 'tate tak', 'g role i', 'nment wi', 'es. obse', 'sity pol', 'joyed a ', 'te takin', 's soon a', 'rding to', 't presen', 'we estim', 's remain', 'ccustome', 'electric', 'n terms ', 'nce wher', 'things, ', ' get poo', 'ing dire', 'ness peo', ' adverts', 'firms in', 'line whi', \"'s black\", 'ices and', 'ls at th', 't across', 'have bee', 'the grow', 'al secur', 't & fina', 'by many ', 'es mr ha', ' is shar', \" people'\", 'e, so fo', 'finance,', 'lains. i', 'stry to ', 'lthcare.', 'ted cont', 'he priva', 'rovement', 'g failed', 'ally ent', 's, which', 'qis who ', 'ere is m', 'ecent mo', 'chools a', 'nes from', 'ank the ', 'r future', 'n some a', ' rule of', 'onsultan', 'q.job cr', 's for pr', 'ty in po', \"03.iraq'\", 'ependent', 'itical s', 'nt bank ', 'rities s', 'h.many f', 'l do bus', 'er havin', \"d's phar\", 'itals. b', 'sponsibi', 'ks have ', 'ject tha', ' work, o', 'o bristo', 'ime used', 'w, then ', 'er, the ', 'pitals s', 'lies an ', 'tol univ', 'ial serv', ' and res', ' mend, w', ' well as', 'june 200', 'ious cyc', ', deputy', 'uk and b', 'raqis ar', ' post-wa', ' reconst', 'nging in', 'oon afte', 'd school', ' in area', 'schools ', 'voters. ', 't to be ', 'thcare. ', 'cal scie', 'sy to fo', ' deadloc', 'ng voter', 'ent has ', 'but we e', 'ry in an', 'r a much', 'ure. bla', '-opening', ' guys ar', 'e watche', 'es from ', 'y transf', ' then th', 'd tv adv', ' ownersh', 'k and ba', 'y. but t', 'ncy blac', 'cientist', ' allow 1', 'ring the', ' the re-', 'prioriti', ' to live', 't any ma', 'er its p', 'te banks', 'ply, irr', 'r will e', 'owing di', 'ys. iraq', ', an ira', 'y in kir', 'q in 200', 'oth on e', 'gs insti', 'rookings', ' falcon ', 'nce, so ', 'ment has', 'ging dir', 'exander ', 'troleum ', 'so forei', 'natural ', 'oversy a', ' and bag', 'n its ir', 'on the a', 'ess peop', 'r get po', 'oman tol', ' yet few', 'ts for p', ' manifes', 'ill warm', ' in iraq', ' the inv', ' a big d', 'store po', 'ens rath', 'country ', 'erves ms', 'um servi', 'owth.man', 'vernance', 'eation, ', ' much bi', 'st. nobo', 'iraqi bu', 'ch is ru', 'ical par', ' have ex', 'r. it is', ' and ira', 'f sunday', '. in the', 'that an ', 'f people', 'e alexan', 'sed to l', 'n, telep', 'ate, onl', 'd oil an', \"'s wish \", 'llow 100', 'ging in ', 'he despe', 'e-nots i', ' ordinar', 'ownershi', 'ctor wil', 'ving fai', 'tion as ', 'ng faile', ' network', 'haves an', 'dication', 'what the', 'di point', 'sting it', ' decades', 'ces and ', ' how man', 'or the f', 'the tran', 'ment fro', ' work, b', 'opes are', ' medicin', 'tal baat', 'election', 'ntering ', 'l servic', 's such a', 'r about ', \"tch's ba\", 'k down b', 'bserves ', 'ephone n', 'many for', ' sector.', 'tary con', 'e the se', 'table im', 'economy,', 'lth of m', 'the poor', 'firms al', 'reas suc', ' are hig', ' to cash', \"iraq's u\", 'in the w', '2003.ira', 'ary peop', 'ort & fi', ' the maj', 'y in pos', ' is on t', 's iraq i', ' thanks ', ', insist', 'r it acr', ' out tec', 'ling off', 'to rebui', 'nk expor', 's uneasi', 'een made', ' uneasil', 'e majori', 'oes on i', 'to track', ' in post', 'vicious ', 'e out of', 'serves m', 's blackw', 'f nation', ' been fo', ', invest', ' are exc', 'edibly f', 'ordanian', 'n firms ', 'es and p', 'baathist', 'eople st', 's radwan', 's bought', ' some pr', 'hich ent', ' irrigat', ' and the', 'ng role ', 't richer', \"sunday's\", 'k. first', 'all oper', 'frustrat', 'boosting', 'tists wo', ' magnitu', 'rinciple', 't in som', 'n on the', 'ealth an', 'eign fir', 'e act, y', 's dozens', \"htel's e\", ' take re', 'magnitud', 'bility, ', '100% for', 'tatters.', 'ce and s', '& financ', 'on the r', 'curity a', ' in any ', 'esponsib', 't of ord', \"'s vast \", 'contrast', 'e with i', 't rule o', 'poor get', 'e attrac', 'mend, wi', 'est that', 'ere, in ', 'any fore', ' many po', ' normal ', 'edicines', 'bn since', 'd, insis', 's over i', \"ch's bag\", 're excep', 'ies shou', 'danian i', 'in 2003.', 'sue for ', 'y knows ', ' used to', 'lcon gro', ' of aber', 'aging di', 'ing fail', 'e vary, ', ' it is c', 'en made ', 'ex. but ', 'made wor', 'olve inc', 'rnment h', 'overnanc', 'ance, so', 't few ar', 'nd have-', 'ting its', 'the stat', 'q index.', \"'s view \", 'er frust', 'et few a', 'aving fa', 'aqi oil ', ' managin', ' buying ', 'of law, ', 'ent bank', ' the sec', 'will do ', ' radwan ', 's run in', ' want th', ' proposa', 'rking fo', 'n electe', 'conomy h', 'cross th', 'deen-bas', 'ty and h', 'reparing', 'port any', 'ture. bl', 'armly we', 'in post-', 'esources', 'ne alexa', ' essenti', 'ly thank', 'is. the ', 'ogy tran', 'healthca', ' in acco', ' growing', 'ies. obs', 'lectrici', 'spitals ', 'ock. fir', ' high fo', 'ghdad-ba', ' at the ', ' terms o', 'ught 49%', 'okings i', 's. obser', 'ggest th', 'h the ir', 'ought 49', 'er out t', ' the oth', 's of the', 'ce where', 'ich have', 'recent m', 'but some', 'ago. i t', 'he invol', 'ake a le', ' improve', 'he deadl', ' in some', 'ospitals', 't 49% of', ' its bot', 'gnitude ', 'there ar', 'red by m', 'on is di', 'ess has ', 'alth of ', ' selling', 'rity and', 've incre', 'rks and ', \"'s oil r\", 'e where,', 'he state', 'o rebuil', 'ponsibil', 'ng on a ', 'to work.', 'tural re', 'ingful w', 'ical sci', 'war iraq', 'ch bigge', 'rk, but ', 'atched t', ' lies an', 'stment b', ' there a', 'igh for ', 'e betwee', 'he iraqi', ' of peop', 'try in k', 'high bot', 'hese thi', 'adi poin', 'vements ', 'h list. ', ' her fru', 'nomy at ', 'ntrast w', ' is easy', \"q's citi\", ' ministr', ' i think', 'rate, on', 's clear ', 'having f', 'foreign ', 'l warmly', 'issues, ', 'out of w', 'parties ', 'ought a ', 'rule of ', 'rt & fin', 'd ms ale', 'tment fr', 'oposal t', ' since j', 'ervices,', 'soon aft', 'nks oper', 'nvolveme', 'y enteri', 's operat', 'econstru', 'nd banki', ' to take', \"'s effor\", 'ement of', 'at prese', ' iraqi w', 't, it is', 'conomy, ', 'th on el', 'o making', ' view ab', ' by a la', 'here, in', 'puty man', 'th islam', 'ntracts.', 'ort any ', 'nitude o', 'for a mu', 't an ele', 'the worl', ' the wes', 'daily pl', 'ols and ', 'gful way', 'nne alex', ' workers', ', social', ' at pres', 'n since ', 'raq in 2', 'ntry in ', 'ceptions', 'aq, the ', '. the ir', ' points ', ' track d', 'and secu', 'bank of ', 'ators pr', 'is are o', 'e brutal', 'ho left ', 'or funct', 'ey are k', 'backtrac', 'upport a', 'as becom', 'sets, sh', 'ander ab', 'd indepe', 'her frus', ' in rece', 'ots is a', 't from a', 'itude of', 's shared', 'r says.y', 'les. hop', 'pply, ir', 'involvem', 'nd pover', ' a proje', 'ly, irri', 'ts engin', 'iety wor', 'ening of', 'hcare. o', \"i's blac\", 'y supply', ' governa', 'pense of', 'al to al', 'h petrol', 'ast natu', ' banks o', 'di, an i', 'oosting ', 'n provid', 'st, mr h', 'ist anne', 'ate falc', 'dad, and', 'sists mr', ' petrole', 'r many p', ' has bec', 'ntial to', 'xception', 't of wor', 'at the s', ' nobody ', 'services', 'eded $22', 'n made i', 'national', \"eople's \", 'to the s', 'cordance', 't in on ', 'in some ', \"s. iraq'\", 'preparin', 'ring for', ' issue f', ' left th', 'ivate ba', 'ng for a', 's out. t', ' work wi', 'elephone', 'ers.a vi', 'al scien', ' the sit', ' angerin', 'ct, yet ', 'trying t', ' law, th', 'o busine', 'divide; ', ' busines', 'hat the ', ' bechtel', ' enjoyed', 'nsequent', 'c growth', 's people', 'al resou', 'ms alexa', '. mr had', ' country', 'poor soc', 'rate var', 'nance, s', 'w govern', 'gs, ms a', 'eign own', 'many sma', 'te falco', 's workin', 'its iraq', 'argely t', 'll in te', 'roup has', 'o track ', 'e a lead', 'te it to', 'itional ', ' securit', 'slamic b', 'rack dow', '% of nat', 'e seen i', ' firms a', 'n invest', 'how many', 'gation, ', 'anifesto', 'think-ta', 'dinary p', 'estment ', 'y fast, ', 'tween 30', 'function', 'is on th', ' its pro', 'come the', 'n the re', 'y blackw', 'r frustr', 'oject th', 's dire. ', 'aathist ', 'te secto', ' serious', 'between ', 'inance, ', '.many fo', 'onal ban', 'nomy in ', 'e re-ope', 'd by man', 'guys are', 'uneasily', 'econd-mo', 'iew abou', 'y situat', 'tered ir', 'h is jus', 'n as she', ' is run ', ' they ar', 'itizens ', 'her well', ' a major', 'nder, wh', 'forget t', 'asily wi', 'ng to wo', 'based af', 'have-not', 'but ther', 'ank of k', 'e respon', 'tical sc', 'een as a', 'ional ba', ' involve', ' says ra', 'been for', 'h have e', 'structur', 'itary co', 'macies. ', 'ity situ', 'onomy, i', 'iraqi wh', 'nking pr', 'that peo', 'hink-tan', ' iraqi a', ' revenue', ' in kirk', ' seen in', 'n buying', ' three d', 'd to loo', 'rmacies.', ' of unem', 'king soc', 's at the', 'ks at go', 'e 2003.i', 'rts to r', 'up has d', '. the ec', 'e that a', ' attract', '-based i', 'yment ra', 'g for it', 'irms in ', 'ion, acc', 'ts havin', 'ation, s', ' been bu', 'hings, m', 'some are', 'ection, ', ' the poo', 'the situ', 'as been ', ', in con', ' boostin', 'told ms ', 'washingt', 'ms remai', 'king for', 'n in ira', 'nd geo-s', 'has enjo', 'ustomed ', '$22bn si', 'ation as', 'y iraqis', 'er says.', 'vices an', 'provemen', 'e bank h', 'ities sh', 'well as ', ' contrac', ', with n', 'ed iraq ', ' natural', 'inciples', ' hospita', 'ell as b', 'ces, whi', 'enues wh', ' at all ', 'nstructi', 'bigger f', 'ion in i', \"el's eff\", \"ghdad's \", 'bank exp', 'yet in s', 'its bott', ' bank of', 'ation in', 'unctions', 's, she s', 'radwan h', 'ansfer i', 'gn firms', '0-40%, t', 'accordan', \"ment's p\", 'uch bigg', 'iraq, th', 'roversy ', 'e essent', 'rying to', 'baghdad,', 'he west,', ' health ', \"aghdad's\", ' in cred', 'paring f', 'sibility', 'essentia', 'it has b', 'gering v', 'e rich g', 's can su', 'rst rule', 'to be be', ' the men', 'nal gove', '30-40%, ', 'r. natio', 'ander. i', 'onomic g', ' as elec', ' that ar', 'i worker', 'raqi oil', 'y to ham', 's wish l', 'nt from ', 'd the de', 's.a vici', 'yment, p', 'oil reve', ' and geo', 'blackwat', 'hadi: th', 'oorer. a', 'onomy ha', 's that a', 'orts to ', 'of forei', ' are try', 'people t', 've been ', ' big div', ' of sund', ' mr hadi', 'ar that ', 'raq.job ', ' problem', ' the wor', ' fast, m', 'e washin', 'easily w', ' the bro', ' 49% of ', 'as such ', 'o forget', 'ss peopl', 'n ranks ', 'ominant ', 'ibility ', 'e, only ', 'osting i', ' oil min', 'ets and ', 'y, but w', ' credit ', ' and its', 'made, la', 'e jordan', ' first r', 'et in on', 'first ru', 'months o', 's consul', 'responsi', \"ntry's o\", 'end, wit', ' has bou', ' the cou', 'e for ma', 'een in t', 'anne ale', 'e health', 'e desper', 'take a l', 'ob creat', 't a majo', 't the in', ' only on', 'many pol', 'ered ira', 'ich is r', 'ude of e', 'n basic ', 'tical pa', 'my at pr', 'll times', 'independ', 'reation ', 'qi who l', 'ate vary', '. but so', 'urton ha', 'f milita', ' much ho', 'ings ins', 'orks and', 'oor get ', ' ranks h', 'ties sho', 'xander a', 's and re', ' accusto', 'ecades a', 'sitional', 'an indic', 'bility f', ' she wat', 'eak the ', 'es which', ' divide;', 'erwise b', ' in 2003', 'ng respo', 'break th', 'ction ef', 'hese guy', 'cted gov', 's a big ', 'ast with', 'tionals ', 's ahead ', 'ector wi', 'dicines ', 'rivate s', 'iraqi pe', 'iness at', ' unemplo', ' present', 'majority', 'tination', 'she says', 'sources ', 'these gu', 'y welcom', ' the dai', 'future o', 'accustom', 'tion is ', 'f work, ', 'are tryi', 'oil mini', 'o cash i', 'sequentl', 'n hadi, ', 'raqi wom', 's angeri', 'tom line', 're are e', 'ools and', 'dent thi', 'ely than', 'reak the', 'y, irrig', 'he watch', \" iraq's \", 'tering t', 'equently', 'rms of j', ' infrast', 'hington-', 'nts havi', ' of ordi', 'q lies a', 'mate it ', 'nce bank', 'rgely th', 'cond-mos', 'g for a ', 'oters. o', 'power ha', 'hey want', 'she expl', 'f financ', 'conseque', ' to maki', 'n 30-40%', ' hadi, d', 'yed a we', 'nder. it', 'networks', 'e incred', '.yet in ', 'ic medic', 'pe that ', 'r out te', ' resourc', 'dibly fa', ' which i', ' watched', 's have b', ' on in i', ' to hamm', 'ion rank', 'e expens', 'r the ma', 'atch is ', 'entists ', ' technol', 'g voters', 'ersy as ', 'ip of ir', 'on polls', 'sed affi', 'y work, ', 'ack in r', ' a much ', 'is still', ' these t', 'rced to ', 'alcon gr', 'ership o', 'ic banki', 'tional b', 'racted c', 'r having', ' has doz', 'project ', 'ment ban', '.a vicio', 'e involv', 'mr hadi,', 'pe to ca', 'al to ma', 'hospital', 'rt. bech', 'ected go', 'making s', 'he washi', 'nse of i', 'ading ro', 'eptions.', 'iraq.for', 'il and g', 'ration a', ' of fore', 's assets', 'nd resto', 'hink the', 'ad, and ', 'vestment', 'een buyi', 'hat an e', ', mr had', 'tly how ', 'hist reg', 'hanks to', 'ink-tank', 'kuk and ', ' are out', 'e new go', ' sits un', 'on, acco', ' told ms', 'e, 19 pr', 'ork with', '2bn sinc', 'so there', 't govern', 'eaningfu', '-most do', 'ies ahea', 'ying to ', ' are ess', 'ks opera', 'hools an', 'aking re', 'ate bank', 'erts for', 'rowth.ma', 'e of law', 'many ira', ' excepti', 'nant iss', 'stos and', ' controv', 'atters.a', 'ween 30-', \"ad's pha\", 'nt marks', ' iraq.fo', 'acts. bu', 'ctions t', 'ch enter', 'ed gover', 'remain a', \"'s citiz\", 'ead of s', ' still w', ' way. bu', 'ide; the', ' and sec', '. but se', ' the exp', 'nd-most ', ' any mea', 'nk of ku', ', she ex', 'tch is j', 's infras', \"aq's vas\", 'ople wil', 'e in are', ' dire. e', 'bristol ', 'h on ele', 'the dail', ' to bris', 'nd bring', 'h is run', 'and bank', ' is just', 'ays in i', 'ahead of', 'clear th', 'all time', 'ith nota', 'w are ac', 'ranks hi', 'i: the e', 'ty situa', '.job cre', 'tank the', 'cture is', 'ing role', 'nership ', 'ys.yet i', 'iburton ', 'the rich', ', teleph', 'ricity s', ' re-open', 'eers and', 'the econ', 'he rich ', 'lephone ', 'with isl', ', ms ale', 'decades ', ' down ba', 'eas of t', 'f kuwait', 'ns that ', 'he re-op', ', which ', 'tion in ', ' iraqis ', 'h notabl', 'n forced', 'ed, insi', 'ment. so', 's and br', 'ntered i', ' otherwi', 'then the', 'es ms al', 'fter the', 'companie', 'assets, ', \"adi's vi\", 'rs, she ', ' hadi sa', 't techno', 'ait has ', ' banks h', ' such as', 'an elect', ' work. t', 's citize', ' will br', 'litary c', 'k of kuw', 'it acros', 'e while ', 'irkuk an', 'dwan had', 'ther wel', \"of iraq'\", 's a sell', 'een-base', 'anks hav', 'efforts ', 'ionals a', '%, the w', 'uld be i', 'en 30-40', 'ight of ', ' soon af', 'iliate f', ', only o', 'ruction ', ' on a pr', ' a leadi', 'neers an', 'king res', 'n group ', 'ress has', 'n accord', 'wer have', 'in accor', 'he other', ' electio', 'that loo', 'want to ', 'y a lack', 'nt issue', 'r hadi s', ' oil and', 'oreign f', 'th.many ', 'es can s', 'operator', 'aqi asse', ' out of ', ' brutal ', ' clear t', 'nomy, sa', 'e power ', 'he expla', 'ng off o', 's say th', 'ope to c', 'th notab', 'to forge', 'oreign c', 'st, it i', 'an hadi,', 'ut we es', 'k-tank t', 'ing prin', 'a leadin', 's bottom', 'a lack o', 'e will d', 'e take r', ' accorda', 'r of abe', 've excee', 'izens ra', 'suggest ', 'ectors a', ' of kuwa', 'ign owne', 'at the e', ' leading', 'n indica', 'bly fast', 'ning of ', ' iraqi p', 'or get p', 'ate taki', 'y in any', 'ployment', 'l univer', ' having ', 'are keen', ' meaning', 'o are ac', 'spitals.', 'di: the ', ' deputy ', 'gest tha', 'asy to f', 'ank expo', ' hadi, a', ' one of ', 'rutal ba', \"ent's pr\", 'in the h', 's and th', 'basic me', 'ple stil', ' marks a', 'herwise ', 'wing div', 'sets and', 'and geo-', 'tters.a ', 'nary peo', 's at all', 'er. an i', 'l times.', 'ing of h', 'perate, ', 'he recon', 'd bankin', 'islamic ', 'these th', 't seriou', 'iled to ', ' poor so', ' she exp', 'ammer ou', 't the co', 'of this ', 'ut there', 'nomy has', 'ond the ', 'n as a s', 'ill do b', 'hen the ', 'tions th', 'nology t', ' in the ', ' as well', 'ion as s', 'n 2003. ', 'wan hadi', 'est, it ', ' some ar', ' indicat', 'fer issu', 'ity poli', 'e mend, ', 'erious p', ' it is e', ', the po', 'acies. o', 'adverts ', 'nks have', 'inging i', 'ces can ', 'le of la', 'e. opini', 'rom bagh', 'o work. ', 'qi peopl', 's much h', 'sectors ', 'istry to', 'uch hope', 's an eco', 'consulta', 'cording ', 'ttom lin', 'oss the ', 'lly ente', 'rsy as w', 'after th', 'rity sit', ' seen as', 'ment, po', 'rigation', ' cash in', 't. becht', 'njoyed a', 'ent mont', 'oad is s', 'want the', 'ctor of ', ' it acro', 'etween h', 'ajority ', 'aqis who', ' rather ', '. but th', 'he expen', 'providin', 'n areas ', 'ernment ', ' many ir', 'th of mi', ' gas con', 't the ne', 'working ', 'both on ', 'sses and', 'rs prepa', 'in provi', 'de; the ', 'ost-war ', ' iraq li', 'iraqi as', 'ist. nob', 'for it a', 'troversy', 'ntry thr', 'orking f', 'ig divid', 'ion mani', ' do busi', 'g the co', 'wealth o', ' high bo', 'ense of ', ' 2003. m', 'o is wor', 's are hi', 'v advert', 'me the s', ' beyond ', 'y magnit', 'estment.', 'hone net', 'for priv', 'ng princ', 'e says. ', 'hnology ', \"'s unemp\", ' list. n', ' is much', ' all tim', 'do busin', 'ays. con', 'perate s', 'e in pro', 'to brist', ' bristol', 'as boost', 'its engi', 'deadlock', 'creation', 'qis. the', 'ht 49% o', 'technolo', 'ial secu', 'y foreig', ' get ric', 'the sect', ' have-no', 'aqi who ', 'rnance a', 's oil re', 'e it to ', 'ry to ha', ' with ma', 'pinion p', 'ly how m', 'deputy m', 'er futur', 'gy trans', 'es of ir', 'ost domi', 'woman to', 'ades ago', 'kwatch i', 'ction ma', 'g of hos', 'o hope t', 'ork, obs', 'ny magni', ' power h', 'cle of u', ' been ma', 'y managi', ' and on ', 'or. nati', 'ne while', 'oviding ', ' who lef', ' to trac', 'ves and ', 'one iraq', 'et riche', ' poorer.', ' is seen', 'ually en', 's who ar', ' which e', 'aqi woma', ' the ric', 'ts to re', 'ian inve', 'ls sugge', 'is who a', 'il minis', 'ying int', 'ional go', 'nsitiona', 'aqi busi', 'le take ', 'ced to b', 'olitical', ' to back', 'med, ins', 'tes of i', 'get in o', 'unemploy', 'd povert', 'rustrati', 'es an ec', 'm line w', ' bottom ', 'ervices ', \"nday's e\", 'd have-n', 'nies say', 'ts. but ', 're actua', 'ientist ', 'rity of ', 's easy t', 'g to bri', 'as bough', ', the tr', 'rdeen-ba', 'ts work ', 'lock. fi', 'of aberd', 'ather we', 'at gover', 'ght of o', 'sed oil ', 'sal to a', 'istol un', ' directo', ' its eng', ' indepen', 'raqis. t', 'ook afte', 'althcare', ' remain ', ' any mag', '. blackw', ' export ', 'ion poll', 'ms of jo', 'ut techn', 'is anger', ' sector ', 'm baghda', 's of peo', 'd beyond', 'y small ', 'a viciou', 'y as wel', 'otherwis', 'iate fal', 'aq lies ', 'based oi', 'd iraqi ', 's electi', ' after h', 'lth and ', ' and hea', 'eyond si', 'the seco', 'e by a l', 'institut', 'which en', 'e exceed', 'ne 2003.', 'on after', 'ope that', 's exactl', 'ples. ho', 'e improv', 'e hallib', 's which ', 'inion po', 'm abroad', 'work. th', 'eft the ', 'gn owner', 'nt will ', ' providi', ' telepho', 'versity ', 'ck down ', 'king sec', 'g off of', 'll warml', 'they are', 'she watc', 'he secon', 'ey want ', 'ocial se', 'hared by', 'in terms', ', but we', 'ok after', 'anks ope', 'ng its b', 'ity and ', 'gh both ', 'e of ira', 'es. life', ' from ba', 'erate, o', 'nion pol', 'o-scient', 'serious ', 'wn basic', 'ty of ir', 'elected ', 'the invo', 'y to for', 'xceeded ', 'ationals', ' to look', 'tion, te', 'nd sits ', ' creatio', ' says. i', 'look aft', 'ny polit', 'military', 'nsfer is', ' firms i', 'r hadi: ', 'ny small', 'the re-o', 'n suppor', 'ary, but', 'lso hope', 'led to t', \"tel's ef\", 't poorer', 'well in ', 'ce with ', 'a majori', 'minant i', ' of inve', 'desperat', \"atch's b\", 'tor will', 'een forc', ' an elec', 'mr hadi:', 'f iraq.f', 'er well ', 'ce, so f', 'economic', 'en as a ', 'igger fu', 'onomy in', 'mer out ', 'iraqis a', 'r privat', 'gime use', \"le's wis\", 'goes on ', 'es are h', 'ns. mr h', 'he situa', 'n the me', 'neasily ', 'll evolv', 'should b', 's cycle ', 'ebuild s', 'cted con', 'dy knows', 'n, socia', 'ays. ira', 'ay. but ', 'sily wit', 'ys. cons', 'raq lies', 'e networ', ' in prov', 'much big', 'w 100% f', 'o look a', 'ivide; t', 'vate sec', ' an indi', 'omed to ', 'racts. b', 'e sector', 'eeded $2', 'sector w', 'ions. mr', 'th the i', 'hdad, an', 'e guys a', 'tuation ', 'sector. ', \"adi's bl\", 'en haves', 'divide b', 'rioritie', 'c medici', 'kuwait h', 'stomed t', 'raqi ass', 'rvices, ', 'e-openin', ' so fore', 'he daily', ' this ca', '9% of na', 'be betwe', 'ent, poo', 't it is ', ' forget ', 'light of', 'rators p', 'nsibilit', ' in mult', \"raq's as\", ' many sm', 'ss at al', 'ity in p', 'ce june ', ' backtra', 'nues whi', 'says. ir', 'd of fin', 'xport & ', 'the peop', 'in multi', 'chnology', 'rious pr', 'or many ', 'verty ha', 'al gover', 'sultancy', 's. life ', 'inesses ', 'ed affil', 'brutal b', ' majorit', 'exander,', 'ution sa', 'il reven', 'sts work', 'aily pli', 'ish list', 'es and h', 'ow 100% ', 'i who le', 'seen in ', 'en force', 't regime', 'e deadlo', 'resource', 'controve', 'he act, ', 'ife goes', 'nals at ', 'evenues ', 'oup has ', 'ts uneas', 'ccordanc', 'rector o', 'ves mr h', 'an be se', 'oints ou', 'timates ', 'w about ', ' of iraq', 'verts fo', 'credibly', 'plight o', 'siness a', 'oks at g', 'r its pr', ' that th', 'ing divi', 'k, obser', 'e in cre', 'overnmen', 'restore ', 'phone ne', ' operate', 'on in ir', 'erdeen-b', 'der says', 'ith isla', 'le, 19 p', 'hould be', ' in tatt', 'erves mr', 'nal bank', 'oleum se', 's effort', 'lected g', 'tors pre', ' vicious', 't her fr', 'rms in t', ' hadi: t', 'ssets, s', 're. blac', 'cial ser', ': the ec', 't what t', ' will ev', 'failed t', 'of sunda', 'd restor', ' rebuild', 'k with t', 'he futur', ' times. ', 'n manife', 'or socia', ' are acc', 'nk the p', 'e daily ', 'te vary,', 'ultancy ', 'security', 'or priva', 'viding t', 'he major', ' social ', ' keen to', 'en-based', 'areas su', 'k the br', ' and gas', \"3.iraq's\", 'als soon', 'n to get', 'ave exce', 'is just ', 'ht of or', 'ect that', ' across ', 'ity supp', 'ly one o', 'petroleu', 'tructure', 'raq, the', 'vices, w', 'of natio', 'der. it ', 't is see', 'of iraqi', 'incredib', ' and ban', 'my, says', 're is mu', 'k export', 'des ago.', ' & finan', ', but it', 'e things', ' issues,', 'ople wor', '. hopes ', 'aqi peop', ' vary, b', 'o the co', 'inance w', 'ared by ', 'are esse', 'untry th', ' areas o', ' scienti', 'effort. ', 'd affili', 't bank o', 'rivate h', 'uch as e', 'ctricity', 'tween ha', 'h as ele', ' woman t', 'reign fi', 'orkers, ', 'amic ban', 'here are', 'poorer. ', 'ernance ', 's. one i', 'trast wi', 'r functi', 'iness pe', 'alth and', 'd its en', ' exactly', 'or a muc', 'et that ', 'e explai', 'st-war i', 's unempl', 'tricity ', 'adwan ha', 'this can', 'on, tele', 'ins. in ', 'ing vote', 's, ms al', 'and pove', 'rkers, s', 'actly ho', 'd contro', 'lity for', 'o live n', 'ith many', 'get rich', 'indicati', 'ompanies', 'out tech', 'bought 4', 'observes', 'uation i', 'der abou', 'ink the ', 'ic growt', 'sy as we', 'irector ', 'athist r', ' she say', 'omy, inv', 'is dire.', 'at peopl', 'p of ira', ' iraqi o', 'the desp', \" hadi's \", 'are out ', 's well a', 'igh both', ' be betw', ' off of ', 'xander s', 'elcomed,', 'the priv', 'they wan', ' wish li', 'e people', 'wish lis', 'ral reso', 't, mr ha', 'ne of ma', 'acted co', 'ays.yet ', 'leum ser', 'l minist', ' sectors', ' iraqi b', 'stimates', 'n told m', ' in cont', 'to get i', ' state t', '0% forei', 'ys radwa', 'ial to m', 'iraqis. ', 'et poore', 'ion, soc', 's boosti', ' as a se', ' to rebu', 'future. ', 'a much b', 'ss has b', 'f ordina', 'st that ', 'd the gr', 'ns. in t', 'asic med', 'd, and i', 'es, mr h', 'dit bank', 'nd gas c', 'l way. b', 'of iraq.', 'en to ge', 'brooking', 'di, depu', 'hadi, an', 'as dozen', 'e state ', 'me used ', ' finance', 'post-war', 'lexander', ' between', ' of fina', 'ast, mr ', 'normal l', 'e second', ' forced ', 'o there ', 'and gas ', ' observe', 'an inves', 'seen as ', ' despera', 'inance b', 'ture is ', ' easy to', 'ns of pe', 'on the i', 'te hospi', 'support ', 'ut some ', 'but the ', 'in iraq,', 'ring vot', 'nctions ', 'he count', 'onsibili', ' the hea', 'eputy ma', 'k in rec', 'ate it t', 'litical ', 'stake in', ' foreign', ' for fun', ' to get ', ' multina', 'marks a ', 'estos an', 'the wash', 'te, only', 'uction e', ' expense', 'i, an ir', 'raqi wor', ' of whic', 'rwise br', ' hadi po', 'try to h', 'take in ', 'rget tha', 'resent m', ' oil rev', 'ciples. ', 'ential t', 'te to ta', \"chtel's \", 'ssue for', 'ched tv ', ' hope th', 'd on the', ' run in ', 'gress ha', 'ment wil', 'notable ', 'ransitio', 'exceeded', 'n any me', 'n iraq, ', 'are accu', ' tatters', 'uys are ', 'n made, ', 'mic bank', ' hallibu', \"ople's w\", 'ne of wh', 'a wealth', 'yet few ', 'who is w', 'in areas', \"di's vie\", '. one ir', 'cines fr', ' wealth ', ' the act', ' there i', ' support', 'n the wo', 'nt has b', 'otable i', ' exceede', ' of the ', 'be is sh', 'mly welc', 'e is muc', 'ent thin', 'been mad', 'acktrack', 'with the', 're power', 'g these ', 'l evolve', \"try's oi\", 'n the ir', 'ituation', 'the futu', 'ecome th', ' project', \"q's infr\", ' with th', 's just o', ' get in ', 'port & f', 'kings in', ' alexand', \"iraq's a\", 'rt any m', 's and ha', 'es ahead', 's, she e', ' ahead o', 'ection m', 'd geo-sc', ' frustra', 'tos and ', 'alexande', 't looks ', 'll as bo', ' but it ', 'e transi', 'nifestos', 'd the re', 'ly enter', 'titution', ' schools', 's ago. i', 'ton-base', 'e high f', ' to allo', 'e goes o', 'ancy bla', 'out. the', 'd baghda', ' 2003.ir', ' it is s', 'tancy bl', ' restore', 'the heal', ' who are', 'icity su', 'the new ', 'tion man', 'aq in 20', 'on ranks', 'pitals. ', 'n the he', 'orking o', 'ond sits', 'quently,', 'ion is d', 'erators ', 'filiate ', ' think-t', 'ent. so ', ' the jor', 's. but s', ' functio', 'h both o', 'with man', 'yond sit', 'ays radw', 't has bo', ' what th', 're essen', 'ay they ', 'ed indep', 'man told', 'ple work', 'ple will', 'y politi', 'ntist an', 'y at pre', 'it is ea', ' divide ', ' transit', ' and bri', 'work, bu', 'nesses a', 'als at t', 's alexan', 'h get ri', 'anking p', 'and the ', 'nts out.', 'ch get r', 'run in a', 'ng into ', 'hadi, de', 'ew are a', 'mmer out', 'ing on a', ' is dire', 'uying in', 'ns rathe', 'tv adver', 'eading r', 'atural r', 'aningful', 'city sup', \"'s prior\", 'will bre', 'hip of i', 'credit b', ' of many', 'in tatte', 'n iraq l', 'expense ', 'ources c', ' has bee', 'ich ente', 'rast wit', 'down bas', 'he poor ', 'dominant', ' into th', 'ngton-ba', 'ties ahe', 'ho is wo', 'ent of f', 's and ge', 'qi worke', 'lear tha', ' these g', 'de in ar', 'ordance ', 'as enjoy', 'banks ha', 'e estima', 'ctually ', 's engine', 'e brooki', 's enjoye', 'omy has ', ' warmly ', 'ing been', '-40%, th', 'ave attr', 'any smal', 'ty polit', 'and on t', 'ry peopl', 'atch pet', 'as well ', ' an econ', 'ontrover', 's she wa', 'n in the', ', then t', 's and on', 'issue fo', ' in its ', 'so hope ', 'harmacie', ' the ira', 'st natur', 'any magn', 'is share', 'at an el', 'omy in t', 'qis are ', 'le impro', 'eople, 1', 'ch have ', ' future.', ' haves a', 'vernment', 'ccording', 'is can b', 'jority s', 'tional g', 'st one o', 'l and ga', 'om baghd', 'rdanian ', ' trying ', 'e taking', 'ween hav', 'ws exact', '003. mr ', 'nder say', 'e privat', ' of job ', 't all ti', 'largely ', \".iraq's \", ' explain', 'wise bru', 'iraqi oi', 'rves mr ', 'my has b', 'ktrack i', ' should ', 'he growi', 'th and b', 'h hope t', ' act, ye', 'yond the', 'ht a maj', 'olvement', 'egime us', 'de, larg', 'ering vo', 'raqis wh', 'ptions. ', 'een 30-4', 'e except', 't the st', 'world of', 'off of i', 'ade in a', 'rty has ', 'or will ', 'con grou', ' west, i', 'g sector', 'manifest', 'there is', ' made in', 'n haves ', ' where, ', 'customed', 'state ta', 'selling ', ' washing', 'enjoyed ', 'ion of t', \"i's view\", 'the jord', 'cycle of', 'me progr', 'nd iraqi', '. i thin', '. life g', 'e accust', 'l govern', 'nots is ', 't there ', 'fe goes ', 'ts is an', 'o be bet', 'y, says ', 'rer. an ', 'are exce', 'zens rat', 'hammer o', 'ome prog', 'ffiliate', 'anks to ', 's are tr', ' are act', 'r, who i', 'ross the', \"echtel's\", 'ed to tr', \"ernment'\", 'bout her', 'ack down', 'orced to', 'r issues', 'ists wor', 'uture. b', ', the pe', 'ng of ho', 'e securi', 'of hospi', 'y thanks', 'pendent ', 'reconstr', 't. nobod', 'ment of ', 'le halli', 'nd baghd', 'e trying', 'g in mul', 're is on', 'vide bet', \"country'\", 'operate,', 'ght 49% ', 'usinesse', ' says. c', 'tracts. ', 'ments ha', ' an iraq', 'y people', 'ate secu', 'he trans', 'is easy ', 'al servi', ' who is ', 't that t', 'aw, then', 're of fi', 'much hop', 'just one', 'e recons', 'polls su', '. nation', 'ltinatio', 'curity s', 'where, i', 'ording t', 'ign bank', 'in and t', 'in recen', ', yet fe', 'ant to l', ' is stil', 'et in so', 'er have ', ' index. ', 'ers and ', 's are ou', 'any iraq', 'as elect', 'oor soci', 'onstruct', 'y with m', ' people ', \"dad's ph\", 'f hospit', 'stitutio', 'ople, 19', 'qi asset', 'nsists m', 'ile hall', 'worse by', 's high b', 'ector. n', 'at are e', 's to the', 'lling of', 'ork, but', ' accordi', 'ssential', 'adi, an ', 'state to', 'omic gro', 'vate hos', 't. so th', 'red iraq', 'eparing ', 'ill brea', 'ased aff', ', largel', 'nks high', 'xplains.', '19 priva', 'is worki', 'n iraqi ', 'also hop', 'mall ope', 'i points', 'd iraq i', 'k of ira', 'st regim', ' be is s', ', and it', 'aqis. th', 's the co', 's on in ', 'social s', 's been f', 'al lives', 'ms in th', 'y they a', 'ance ban', 'p has do', 'nk of ir', 'stimate ', 'ty stake', 'one of m', ' things,', 'ust one ', 'aghdad, ', 't is cle', 'om line ', 'lls sugg', 'ded $22b', 'un in ac', 'ovements', 's propos', 'ave been', 'vary, bu', 'west, it', 'n post-w', 'es ago. ', 'he brook', 'politica', ' of hosp', 'd a weal', 'aking so', 'ince jun', 'lcomed, ', 'nd the r', 'ains. in', ' shared ', 'nobody k', 'eo-scien', 'ks high ', 'e actual', \"q's asse\", 'ad of su', ' growth.', 'i assets', 'ts mr ha', 'st with ', 'y are ke', ' geo-sci', 's and ir', 'rivate b', ' line wh', 'reign co', 'f law, t', 'posal to', 'ons. mr ', 'leading ', 'ristol u', 'ements h', 'tial to ', ' become ', 'aberdeen', 'untry in', 'in iraq ', 'eation r', 'naging d', 'ation is', '. conseq', 'into the', 'ilitary ', 'care. op', 'ome area', 'anaging ', 'ountry i', 'k. the i', 'l to all', 'ion, tel', 'nd its e', 'insists ', 'eyond th', 'its unea', 'new gove', 's sugges', 'cal part', 'arks a b', 'e. estim', 'but seri', 'ceeded $', 'get poor', 'nly one ', 's is ang', 'n owners', '03. mr h', 'roposal ', 'g divide', ' economy', ', 19 pri', 'h for th', ' also ho', 'ine whil', 'ent rate', 'nt of fo', 'i busine', ' economi', 'f many s', 'old ms a', 'iversity', 'by a lac', 'dlock. f', 'ould be ', 'roblems ', 'nt the s', ' supply,', 'universi', 'urces ca', '. opinio', 'the act,', 'been buy', 'ural res', 'ets, she', 'on says ', 'vement o', 'explains', 'onomy, s', 'growth.m', \"h's bagh\", 'tions. m', 'out her ', 'irst rul', 'nance an', 'onal gov', 'ne netwo', '. observ', 'inant is', 'exander.', 'rsity po', 'looks at', 'irms als', 'ooks at ', ' dominan', 'tals soo', 'anian in', ', accord', 'hope tha', ' dozens ', ' investm', 'which is', 'raqi who', 'ple take', 'ows exac', 'ons that', 'ents hav', 'g to wor', 'th many ', 'ation ra', 'ver its ', 'ure of f', 'st domin', \"ry's oil\", ' on elec', 'ngineers', 'points o', 't, poor ', 'ottom li', ' be seen', 'y and he', 'he world', 'd gas co', 'transiti', 'one netw', ' by many', 'sts mr h', 'ank of i', ' regime ', 'ake in c', 'imates o', '. first ', 'es, whic', 'imate it', 'ee decad', 'rs.a vic', 'ak the d', ' iraq, t', 'the west', 'a projec', 'k has bo', 'dire. es', ' to the ', 'will evo', 'tch petr', 'ld schoo', 's ms ale', 't are es', 'investme', 'ld ms al', 'tate to ', ' the peo', 'n the we', 'e to cas', 'er. it i', 'q.foreig', 'n polls ', 'ut it is', 'ghdad, a', ' kuwait ', 'governme', 'ountry t', 'ger futu', \"y's elec\", ' want to', \"'s baghd\", 'a sellin', ' look af', 'ance and', ' says.ye', 't rate v', 'mes. lif', 'in any m', 'l operat', 'work wit', ', says r', 't. these', 'an econo', 's of ira', 'e is on ', 'eign com', 'poverty ', 'r iraq.j', 'n a proj', 'ce bank ', 'ue for m', 'esperate', 'nd on th', 'n of thi', ' bringin', 'take res', 'aring fo', ' its ira', 'ices, wh', 'de betwe', 't has be', 'le will ', 'ad is st', 'which ha', 're tryin', ' transfe', '22bn sin', 'eign ban', ' institu', 'raq.fore', 'i people', 'has beco', 'ctors an', 'al parti', 'tment ba', 'xactly h', 'ght a ma', 'cts. but', 'ng been ', 'tors and', 'mal live', 'zens of ', \"aq's inf\", 'rack in ', 's prepar', ' plight ', ' iraqis.', ' that pe', 'opening ', 'his can ', 'ore powe', 'st rule ', ' world o', 'e normal', 'nd the g', 'le worki', 'lection,', 'eadlock.', 'r hadi, ', ' we esti', 'rves ms ', 'infrastr', 'ed to ba', 'an suppo', 'ys are t', 'ifestos ', 'ng socie', 'inistry ', 'governan', ' at gove', 'raqi peo', 'de worse', 'f iraqi ', 'of unemp', ' the des', 'ering th', 'rties ah', 'oyment r', 'hed tv a', ' incredi', 'ure is o', 'emain an', 'h in on ', 'le in pr', '0%, the ', ' new gov', 'sic medi', 'g princi', 'ailed to', 'd to the', 'rrigatio', ' service', 'has been', 'ng direc', 'aq index', ' anne al', 'r the fu', 'n econom', 'uty mana', 'nows exa', 's electr', 'i woman ', 'ught a m', 'onals at', ' after t', \"iraq's c\", 're-openi', ' a lack ', 'ility fo', 'conomy i', '003.iraq', 'y meanin', 'y how ma', ' that an', 's from b', ' the sta', 'o left t', 'ington-b', 'volve in', \"q's vast\", ', the jo', 'mpanies ', 'ssues, m', 'n in acc', 'orld of ', 'of many ', \"q's unem\", 'transfer', 'still wa', ' of econ', 'ry three', 'king pri', \"f iraq's\", ' for pri', ' pharmac', 'oyed a w', ' citizen', 'ility, t', 'ozens of', ' the was', 'en in th', ' efforts', 'bottom l', 'd, with ', 'estore p', 'ign comp', 'ter havi', ' the tra', 'easy to ', 'n compan', 'nt think', 'iraq ind', 'lack of ', ' from ab', ' second-', 'dverts f', ' out. th', 'sfer iss', 'eum serv', 'n the ec', 'ines fro', 'its prop', 'tor of a', 'l bank o', 'ing sect', 'ful way.', ' 100% fo', 'have att', 'icious c', 'ly, the ', ' say the', 'us cycle', ' banking', 'raqi bus', 'ycle of ', ' to be b', 'thist re', '3. mr ha', 'view abo', 'hallibur', 'tment. s', 'l break ', 'ut. thes', 'ation of', 'tion, so', 'work, ob', 'e west, ', 'mploymen', 'tly, the', 'erms of ', 'ndent th', 'to hamme', 'ues, mr ', 'ntists w', 'anks hig', 'se bruta', ' the new', 'loyment ', 'ule of l', 'on group', 'ultinati', ' job cre', 'people w', '2003. mr', 'nment ha', 'tworks a', 'e to tak', 'and brin', 'e falcon', 'ed to th', 'bank has', ', observ', 'cial sec', 'ssets an', 'and have', 'abroad i', 'stment f', ' princip', 'ineers a', 't-war ir', 'ersity p', 'reign ba', 'ty suppl', '40%, the', 'life goe', '. nobody', 'ackwatch', 'can be s', 'rity sta', 'ndepende', ' looks a', 'q, the p', 'pes are ', 's work w', 'hadi say', '-tank th', 'nt month', 'y stake ', 'se by a ', 'to live ', ' abroad ', \"e's wish\", 'med to t', 'is run i', 'ny forei', 'qi oil m', 'n, accor', ' voters.', 'progress', 'health a', 'qi woman', 'ing resp', 'f iraq, ', ' $22bn s', 'lamic ba', 'st anne ', \"people's\", 'it to be', 'n effort', 'ty, they', 'icher, t', ' and bey', 'wth.many', ' poor ge', ', poor s', ' made wo', \"kwatch's\", 'e worse ', 'big divi', 'ash in o', 's and po', 'nk-tank ', ' future ', 'r that t', 'lackwatc', '-nots is', 'm servic', 'get that', 'n after ', '; the ri', 'three de', 'onomy at', 'ing thes', 'in credi', 'ry in ki', 'anies sa', 's priori', 'ciety wo', 'o take a', 'in kirku', 'l revenu', 'ome the ', 'bout wha', 'ch as el', 'ist regi', 'ructure ', ' baathis', 'are actu', 'y has be', 'es on in', 'ower hav', 're, in c', 'ority st', 'list. no', 'sperate ', 'tion of ', '% foreig', '. it is ', 'jordania', 'hat peop', 'tution s', ' on the ', 'ed to lo', 'perators', 'i, deput', 's to reb', 'conomic ', 'roleum s', 'mic grow', 'of peopl', 'ut the i', ' about w', ' is ange', 's instit', 'nfrastru', 'f invest', \"'s elect\", 'ently, t', 'dad-base', 'pport an', 'curity i', ' basic m', 'meaningf', 'till wan', 'igation,', 'terms of', 'ck of in', 'thanks t', 'ks and t', 'nder abo', 'he healt', 'e banks ', 'utal baa', 'job crea', 'comed, i', 'ves ms a', 'e. black', ' private', 'hat are ', 'ople tak', 'ses and ', 'y contra', 'overty h', 'ens of p', 'ology tr', 'ts out. ', 'ased ind', ' assets,', 'i oil mi', 'ew gover', 'tracted ', 'o. i thi', 'he peopl', ' but the', 'rogress ', ' ms alex', 'but it i', 'cktrack ', ' bigger ', ' and pov', 'urity in', 'ing for ', 'g direct', 'of finan', 'ntly, th', 'ivide be', 'o the se', 't domina', 'e used t', 's in its', 'der, who', 's in the', 'ld of fi', ' can sup', 'ctly how', 'principl', 'ints out', 'main and', 's mr had', 'n kirkuk', 't to liv', 'the mend', 'sits une', 'esent ma', 'most dom', ' for the', 'rs. one ', 'of work,', 'own basi', 'the dead', 'r. an in', 'ade, lar', 'and rest', 'e keen t', 'warmly w', \"watch's \", 'ngful wa', 'have exc', 'ter the ', 'h bigger', 'berdeen-', 'he new g', 'with not', 'osal to ', 'at the n', 'ere are ', \"baghdad'\", 'ide betw', 'nk the b', 'on, soci', 'kirkuk a', ' with is', ' of this', 'jority o', 'banking ', ' lack of', 'medicine', ' areas s', 'affiliat', 'icines f', 'he secto', 'blems re', 'ack of i', 'ft the c', 's should', 'nvestmen', 't the ex', ' for man', 'l securi', 'entist a', 're. esti', 'one of w', 'rking on', 'ith the ', 'sential ', 'any mean', 'ich get ', 'ort. bec', 'here is ', 'g respon', 'any poli', 'te secur', 'l in ter', 'rk with ', ' iraq.jo', 'ate hosp', ' the gro', 'ing to b', 'll want ', 'l to mak', 'rs and b', ', the wa', 'uild sch', 'society ', 'ansition', 'x. but s', ' just on', 'at all t', 'ased oil', 'oreign o', 'and beyo', \"aq's ass\", 'gas cons', ' live no', 'l partie', 'omy at p', 'll opera', 'of the e', ' and hav', \"nment's \", 'her, the', 'irrigati', ' hopes a', ' of work', 'having b', 'e of whi', 'tor. nat', 'an told ', 'regime u', 'se thing', 'omed, in', 'who are ', 'role in ', 'ding to ', 's proble', ' for a m', 'track in', ' electri', 'ems rema', 'y many i', 't issue ', 'nt rate ', 'hile hal', ' it to b', 'k of inv', 'rnment w', 're out o', 'ates of ', 'nce with', 'l want t', 'nd, with', 'anking s', 's vast n', ' will do', 'ff of ir', 'ety work', ' contras', 'k the de', 's has be', 'ls soon ', ' but we ', 'gely tha', 'it is cl', 'dance wi', 'y want t', 'small op', 'stol uni', 'says rad', ' univers', 'ho are a', 'se guys ', 'nd the d', 'economy ', 'nance ba', 'ple, 19 ', 'itution ', 'ffort. b', ' life go', ' is work', 'tched tv', 'e growin', ' suggest', 'ain and ', 'hich hav', 'ree deca', 'ucture i', 'times. l', ' they wa', 'on manif', 'nce and ', 'iding th', ' politic', 'are high', 'r well i', 's. hopes', 'ly welco', 's, mr ha', \"iraq's i\", 'on a pro', ' the fut', 'r have a', 'export &', 'hich is ', ' operato', 'll do bu', 't think-', ' in on t', ' respons', ' bought ', 'left the', ' ago. i ', 'has doze', ' are kee', 'e of une', 'private ', 'rms also', 'rate sec', 'ndex. bu', 't some p', 'ity for ', 'ibly fas', 'g been m', 'qi busin', \"raq's in\", 'siness p', \"raq's va\", 'ck. firs', 'venues w', 'tion eff', 'who left', 'as a sel', 'i think ', 'nsultanc', ' aberdee', ' rich ge', 'gn compa', ' well in', ' affilia', 'iraq lie', 'ut what ', 't that p', 'ous cycl', ' can be ', ' so ther', ' of law,', 'orities ', 'armacies', 'rks a bi', 'people, ', 'to take ', 'tist ann', ' polls s', 'ire. est', 'hope to ', 'ture of ', 'ke a lea', 'nciples.', 'vast nat', 'falcon g', 'e areas ', 'etween 3', 'n has en', 'd to bac', 'ese thin', 'fter hav', 'astructu', 'ts iraq ', 'works an', 'h and ba', 'le still', ' is clea', 's having', 'the expe', 'e still ', 'd govern', 'are. opi', 'etroleum', 'the iraq', 'is clear', 'can supp', 'ow many ', ' 30-40%,', 's rather', 'd be is ', 'd to tra', 'in its i', ' largely', ' with no', \"ay's ele\", 'n banks ', 'omy, say', 'eas such', 'to cash ', 'tration ', 's. but t', 's of job', 'broad is', 'angering', 'till war', 'ork. the', ', so for', 'ate sect', 'es say t', 'cies. ob', 'ors prep', \"l's effo\", 'rastruct', ' knows e', ' brookin', 'ise brut', 'adi says', 'a big di', '-based a', 'in on th', ', it is ', 'ions tha', 'cher, th', 'of kuwai', 'for func', 'estimate', 'di says.', 'on as sh', 'he mend,', 'ese guys', 'nomy, in', ' governm', 'ing off ', 'business', 'attracte', 'ng these', 'dependen', ' society', 'in contr', 'uggest t', 'since ju', 't the ot', 'alliburt', 'ch petro', 'for many', 'ashingto', 'e econom', \"ountry's\", 'of econo', 'f which ', 'act, yet', 'ke in cr', 'nt, poor', 'n be see', 'try in a', ' assets ', 'ew about', ' nationa', 'low 100%', 'iraq.job', 'rich get', 'e is sha', 'e otherw', 'e iraqi ', 'adi, dep', 'lliburto', 'group ha', 'hadi poi', 't anne a', 'f foreig', 'imes. li', 'e been b', 'and its ', 'on has e', 's seen a', 'law, the', \"r hadi's\", 'lvement ', ' made, l', 'ed tv ad', 'rebuild ', 've attra', \"di's bla\", 't will b', 'ters. on', 'ld be is', ', she sa', 'ing into', 'ers, she', 'second-m', 'iraqis w', ' entered', 'cation o', 'timate i', ' taking ', 't is eas', 'mproveme', 'ed $22bn', 'ters.a v', 'ding rol', '. bechte', 'oyment, ', 'tizens r', 'y three ', 'fast, mr', 'n is dir', 've-nots ', 'the broo', 's pharma', 'is much ', 'mates of', 'ole in p', 'ance wit', 'telephon', 'finance ', ' welcome', 'shared b', 'nks to t', 'ar iraq.', 'raq inde', 'ogress h', 'ank has ', ' the pri', 'y one of', 's.yet in', 'eople wi', 're keen ', 'ed oil a', \"bechtel'\", ' enterin', 'richer, ', 'elling o', 'on-based', 'across t', 'logy tra', 'es and i', 'fort. be', 'ness at ', 'ity of i', 'oreign b', ' has enj', ' about h', 'my in ta', 'ng to br', 'sed inde', 'ction, a', 'ringing ', 'ls. but ', 'itals so', 'areas of', 'entering', 'and iraq', 't marks ', 'only one', ' recent ', 'i says. ', 'say they', 'ing soci', 'rdance w', ' rate va', 'rse by a', 't natura', 'hdad-bas', 't of for', 'ly with ', 'n and th', 'king on ', ' poverty', ' the eco', ' richer,', 'urity si', 'ing the ', 'construc', 'to look ', 'made in ', ' daily p', 'gton-bas', 'd health', ' one ira', 's can be', 'adlock. ', 'ational ', 'to backt', 's been m', 'obody kn', 'us probl', 's. in th', 'loyment,', 'd $22bn ', 'pharmaci', 'r, the p', 'ransfer ', \"hdad's p\", 'be seen ', 'olls sug', 'bringing', 'ed contr', 'oil and ', 'o the st', 'ild scho', 'aqi work', 'ings, ms', 'ecurity ', 'ny iraqi', 'nistry t', ' goes on', 'g societ', ' prepari', ' parties', 'says. co', 'onths ov', 'aves and', '00% fore', ' hammer ', 'echnolog', \"'s pharm\", 'ers. one', 'to allow', ' in term', 'from bag', 'build sc', 'stment. ', 's become', 'ningful ', 'll break', 'lve incr', 'he says.', 'ant issu', ' of nati', 'ty for f', 'd securi', 'ck in re', 'ny meani', 'n multin', 'such as ', \"untry's \", ' role in', 'ty manag', 'panies s', 'agnitude', ' worse b', 'ul way. ', 'revenues', 'ors and ', 'plains. ', ' a wealt', 'ormal li', 'aq.forei', ' the rec', ' but ser', 'of milit', ', who is', 'growing ', \"nt's pri\", 'etworks ', '-based o', 're accus', ' a selli', ' which h', 'tion ran', 'ministry', 'ibility,', 'ious pro', 'ted gove', 'ms also ', 'nt to li', 'able imp', 'ton has ', 'k, but i', 'exactly ', 'as consu', 'sues, mr', 'engineer', 'f this c', 'ity stak', ' consequ', 'al bank ', 'n-based ', 'people s', 'd bringi', 'ople sti', 'present ', 's also h', 'e of fin', '49% of n', 'redit ba', 'kers, sh', 'and bagh', 'ivate se', 'ication ', 'tomed to', 'er about', 'forts to', '. so the', 'ed by ma', 'citizens', 'beyond s', 'banks op', 'ne iraqi', \"aq's cit\", 'ontrast ', 'ent from', 'upply, i', ' progres', 'niversit', 'ntrovers', 'of job c', 'ody know', 'ues whic', 'employme', 'director', 'ontracts', 'le of un', 'rity in ', ' to work', 'or of ab', ' stake i', 'nomic gr', 'keen to ', ' vast na', 'iraqi wo', 'e situat', 'k after ', 'o hammer', 'h many i', 'een have', 'y of ira', 'ty work,', 'y for fu', ' working', 'has boug', 'ts propo', 'y, they ', 'e june 2', 'frastruc', 't one of', 'aving be', ' 19 priv', 'ond-most', 'ts botto', 'redibly ', 'ive norm', 'iples. h', 'ociety w', 'd-most d', ' bank ex', \" sunday'\", 'roject t', 'of inves', 'says in ', ' hope to', 'er issue', ' consult', 'd sits u', 'gh for t', ' as she ', 'at the o', ', they w', 'uently, ', 'gineers ', 'e of man', 'roviding', '9 privat', 'hopes ar', 'rld of f', 'structio', 'road is ', ' few are', ' for it ', ' iraq in', 'vate ban', 'proposal', 'cades ag', 'nk has b', 'aqis are', 'hey are ', 'supply, ', 'rather w', 'onsequen', 'o backtr', 'tore pow', 'iraq in ', ' tv adve', 'kwatch p', 'an iraqi', 'ade wors', 'sh list.', 'ncredibl', 'ign firm', 'it bank ', 'xander. ', 'track do', \". iraq's\", 'ad-based', 'watch is', 'nd healt', 'ble impr', 'nstituti', 'y, the t', 'ng in mu', 'uwait ha', 'watched ', ' bank ha', 'ys in it', 'that the', ' militar', 'eople ta', 'een to g', 'problems', 'ealth of', 'se of ir', 'become t', 'e, in co', 'ustratio', 'usiness ', ' kirkuk ', \"unday's \", 'truction', 'as she w', ' islamic', 'burton h', 'e and se', 'body kno', 'es. hope', 'e world ', 'h entere', 'opinion ', 'actually', 'arties a', 'rk, obse', 'nking se', 'some pro', 'aq.job c', 'sent mar', 'lems rem', 'g on a p', 'allow 10', 'ent will', ' have at', 'orget th', 's on the', 'ship of ', 'therwise', 'ivate ho', 'inationa', 'f aberde', 's at gov', ' people,', 'ists mr ', 'conomy a', \"hadi's b\", \"'s asset\", 'versy as', 'the majo', 'pening o', \"raq's ci\", 'geo-scie', 'ess at a', 'ous prob', 'ts and b', 'l baathi', 'ut her f', 'ke respo', 'improvem', 'e hospit', 'os and o', 'rvices a', 'ng secto', 'edit ban', 'rom abro', 'inary pe', 'liburton', 'ectricit', 'while ha', \"rnment's\", \"day's el\", 'nths ove', ' healthc', 'ngering ', 'ctor. na', 'ealthcar', 'o get in', 'ing its ', 'entered ', 'ing in m', 'f the ec', \"ple's wi\", 'ary cont', 'om abroa', 'as of th', 'y, inves', 't we est', 'k the pr', \"ckwatch'\", 'ies an e', 'ch hope ', ' making ', 's and be', ' evolve ', 't people', 'gger fut', ' notable', ' the dea', 'lection ', 'aghdad-b', 'volvemen', 'ss the c', 'esses an', 'tude of ', 'adi: the', 'on of th', 'my, inve', 'd is sti', 'ority of', 'n says i', '.foreign', ' effort.', 't, yet f', 'buying i', 'nt. so t', 't with t', 'ks to th', 'n recent', 'welcomed', 'tually e', '-war ira', 'for the ', 'ill evol', 'q, the j', 'of which', 'w many i', 'o foreig', 'en the e', 'head of ', \"hadi's v\", 'ordinary', 'wnership', 'exceptio', ' estimat', 'nce june', 'e future', ' compani', 'ts, she ', 'e countr', 'er the m', ' opinion', 'rton has', 'tion, ac', 'fforts t', ' but som', 'ander, w', 'festos a', \"aq's une\", 'is seen ', ' to forg', 'n credit', 'go. i th', ' while h', 'n tatter', 'bought a', 'une 2003', 'ookings ', 'rts for ', 'ls and r', 'th the d', ' cycle o', 's baghda', 'ientists', 'dozens o', 't the si', 'ng for i', 'cent mon', 'ndicatio', '-scienti', '. these ', 'ear that', \"iraq's v\", ' baghdad', 'accordin', 'itical p', 'gn banks', 'on effor', 'r social', 'and heal', 'on elect', 'way. but', 'sinesses', ' break t', ' priorit', 'e; the r', 'y plight', 'de of ec', 'ltancy b', 'workers,', ' situati', 'e, large', 'd-based ', 's view a', 'the coun', 're high ', 'ily with', 'n contra', 'eople wo', 'tion say', ' group h', 'watch pe', 'dex. but', 'cy black', 'few are ', 'situatio', 'endent t', 'managing', ' blackwa', 'oblems r', 'me areas', 'uture of', 'ate to t', 'ch is ju', 'ly pligh', 're. opin', 'e poor g', 's. conse', 'used to ', 'ths over', 'from abr', 'h of mil', 'try thre', 'of ordin', ' months ', 'lity, th', 'ding the', 'ngs, ms ', 'l scient', 'taking r', '. estima', 'it is se', 'ion effo', 'f of ira', 'reas of ', '. an ind', 'or it ac', 'rmal liv', 'the reco', 'out what', 've norma', 'after ha', 'ily plig', 'y in tat', 'tals. bu', 'rk. the ', 'based in', 'live nor', 'of iraq,', 'rmly wel', ' insists', 'liate fa', 'g its bo', 'ave-nots', 'hs over ', 'es shoul', 'ill want', 'ector of', 'ks a big', 'baghdad-', \"raq's un\", 'ent mark', 'n the ac', \"y's oil \", 'orer. an', 'r hadi p', 'he econo', 'e are ex', 't that l', 'cious cy', ' enginee', ' have be', 'xander, ', ' take a ', 'ander sa', ' over it', 'als. but', 'ng divid', ' of mili', ' think t', 'ed a wea', ' actuall', 'sh in on', 'nto the ', 'ly fast,', 'ng the c', 'knows ex', \"mr hadi'\", ' that lo', 'high for', 'nian inv', 'rowing d', 'e decade', 'f econom', 'cash in ', 'e workin', ' elected', 'ving bee', 'en buyin', 'ance whe', 'ct that ', 'to the c', 'multinat', 'over its', 'ell in t', ' both on', 'd of sun', 'evolve i', 'erate se', 'stration', 'xpense o', 'hree dec', 'mr hadi ', 'forced t', 'ut serio', 'on the m', ' small o', 'b creati', 's. mr ha', ', irriga', 'beyond t', 'orse by ', 'nd secur', 'ngs inst', 'erty has', 'ation, t', 'ies say ', 'l resour', 'wait has', 'nance wh', 'ant the ', 'rkuk and', \"t's prio\", 'h islami', 'to makin', 'the othe', 'at looks', 'n electi', 'assets a', 'f unempl', ' june 20', 'ake resp', 'shington', 'says.yet', 'e progre', 's. the e'}\n"
          ]
        }
      ]
    },
    {
      "cell_type": "markdown",
      "source": [
        "### **2. CompareSets function**\n",
        "CompareSets computes the Jaccard similarity of two sets of integers – two sets of hashed shingles."
      ],
      "metadata": {
        "id": "_ran18wwoM_Y"
      }
    },
    {
      "cell_type": "markdown",
      "source": [
        "#### 2.1 For two Sets\n",
        "This is a efficient implementation for comapring two sets of shingles."
      ],
      "metadata": {
        "id": "9RamYOFLYTEL"
      }
    },
    {
      "cell_type": "code",
      "source": [
        "def CompareSets(set1, set2):\n",
        "    list1 = list(set1)\n",
        "    list2 = list(set2)\n",
        "    intersection = len(list(set(list1).intersection(list2)))\n",
        "    union = (len(list1) + len(list2)) - intersection\n",
        "    similarity = float(intersection) / union\n",
        "    return similarity\n",
        "\n",
        "# Example\n",
        "similarity = CompareSets(shinglesDoc1, shinglesDoc2)"
      ],
      "metadata": {
        "id": "GYjg38Vd66kM"
      },
      "execution_count": null,
      "outputs": []
    },
    {
      "cell_type": "code",
      "source": [
        "%%time\n",
        "print(CompareSets(shinglesDoc1, shinglesDoc2))"
      ],
      "metadata": {
        "colab": {
          "base_uri": "https://localhost:8080/"
        },
        "id": "R2n2qjOlfhnc",
        "outputId": "9936b060-6324-40a2-abbe-977a4abaf2b3"
      },
      "execution_count": null,
      "outputs": [
        {
          "output_type": "stream",
          "name": "stdout",
          "text": [
            "0.015592515592515593\n",
            "CPU times: user 3.31 ms, sys: 0 ns, total: 3.31 ms\n",
            "Wall time: 3.3 ms\n"
          ]
        }
      ]
    },
    {
      "cell_type": "markdown",
      "source": [
        "#### 2.2 With Characteristic Matrix\n",
        "\n",
        "With increased docs, the matrix becomes more sparse. Resulting in lower performances.\n",
        "\n",
        "1. Create Charactersitc Matrix\n",
        "2. Apply JacSimilarity on two columns (2 docs) **Text fett markieren**"
      ],
      "metadata": {
        "id": "_WpFvIE4UWc7"
      }
    },
    {
      "cell_type": "code",
      "source": [
        "\n",
        "\"\"\"\n",
        "Visualize a collection of sets as a characteristic matrix\n",
        "Rows correspond to elements (shingles) of the universal set.\n",
        "Columns correspond to sets (documents)\n",
        "p. 24\n",
        "\"\"\"\n",
        "\n",
        "def createCharacteristicMatrix(docs):\n",
        "  sMatrix = pd.DataFrame([],columns=[\"shingle\"])\n",
        "  for idx, i in enumerate(docs):\n",
        "    sh = shingling(txt=i)\n",
        "    hsh = pd.DataFrame(toHash(sh),columns=[\"shingle\"])\n",
        "    bol_vals = pd.DataFrame([1 for idx in range(len(hsh))], columns=[\"s\"+str(idx)])\n",
        "    sRow = pd.concat((hsh, bol_vals), axis=1)\n",
        "    sMatrix = pd.merge(sMatrix, sRow, on='shingle', how='outer').fillna(0)\n",
        "  return sMatrix\n",
        "\n",
        "\"\"\"\n",
        "1 1 a 1 in both columns\n",
        "1 0 b columns are different\n",
        "0 1 c\n",
        "0 0 d 0 in both columns\n",
        "Denote,\n",
        "A = the number of rows of type a;\n",
        "B = the number of rows of type b, etc.\n",
        "Sim (C1, C2) = A /(A +B +C).\n",
        "p.26\n",
        "\"\"\"\n",
        "\n",
        "# row 0 is the shingle\n",
        "def calculateSimJac(charMatrix,docCol1=1, docCol2=2, p=True):\n",
        "  a=0; b=0; c=0;\n",
        "  for i in charMatrix.iterrows():\n",
        "    # i[0] --> rowNumber; i[0][0] --> Shingle Number; i[0][1] --> first document\n",
        "    dc0 = i[1][docCol1]; dc1 = i[1][docCol2]\n",
        "    if dc0 == 1 and dc1 == 1: a+=1\n",
        "    elif dc0 != dc1 and dc0 == 1 or dc1 == 1 : b+=1\n",
        "    else: c += 1\n",
        "  if p : print(f\"A:B:C -> {a,b,c}, Sum of A+B+C -> {a+b+c}, CheckLen of Matrix -> {len(charMatrix)}\")\n",
        "  jacSim = a / (a+b+c*0)\n",
        "  return jacSim\n",
        "\n",
        "\n",
        "print(df.text[0:10])\n",
        "cM = createCharacteristicMatrix(df.text[0:10])\n",
        "print(cM)\n",
        "jacSim = calculateSimJac(cM,1,3)\n",
        "print(\"jacSimiliarity:\", jacSim)\n",
        "\n"
      ],
      "metadata": {
        "colab": {
          "base_uri": "https://localhost:8080/"
        },
        "id": "eUilcutyA5TU",
        "outputId": "8e5cf0e4-0906-42b1-ab71-85b055803ad3"
      },
      "execution_count": null,
      "outputs": [
        {
          "output_type": "stream",
          "name": "stdout",
          "text": [
            "0    beyond the desperate security situation in ira...\n",
            "1    the bank of england has left interest rates on...\n",
            "2    barclays, the uk's third-biggest bank, has see...\n",
            "3    fiat and general motors (gm) have until midnig...\n",
            "4    as the aurora limped back to its dock on 20 ja...\n",
            "5    us phone company sbc communications said it ex...\n",
            "6    the european commission has officially launche...\n",
            "7    japanese communications firm softbank has wide...\n",
            "8    shares in deutsche boerse have risen more than...\n",
            "9    uk retail sales fell in december, failing to m...\n",
            "Name: text, dtype: object\n",
            "          shingle   s0   s1   s2   s3   s4   s5   s6   s7   s8   s9\n",
            "0      4216709056  1.0  0.0  0.0  0.0  0.0  0.0  0.0  0.0  0.0  0.0\n",
            "1       256847691  1.0  0.0  0.0  0.0  0.0  0.0  0.0  0.0  0.0  0.0\n",
            "2      3431501741  1.0  0.0  0.0  0.0  0.0  0.0  0.0  0.0  0.0  0.0\n",
            "3       782316916  1.0  0.0  0.0  0.0  0.0  0.0  0.0  0.0  0.0  0.0\n",
            "4      2201171154  1.0  0.0  0.0  0.0  0.0  0.0  0.0  0.0  0.0  0.0\n",
            "...           ...  ...  ...  ...  ...  ...  ...  ...  ...  ...  ...\n",
            "11868  1314566004  0.0  0.0  0.0  0.0  0.0  0.0  0.0  0.0  0.0  1.0\n",
            "11869   805205932  0.0  0.0  0.0  0.0  0.0  0.0  0.0  0.0  0.0  1.0\n",
            "11870  1872112299  0.0  0.0  0.0  0.0  0.0  0.0  0.0  0.0  0.0  1.0\n",
            "11871   129707063  0.0  0.0  0.0  0.0  0.0  0.0  0.0  0.0  0.0  1.0\n",
            "11872  1554575892  0.0  0.0  0.0  0.0  0.0  0.0  0.0  0.0  0.0  1.0\n",
            "\n",
            "[11873 rows x 11 columns]\n",
            "A:B:C -> (363, 4182, 7328), Sum of A+B+C -> 11873, CheckLen of Matrix -> 11873\n",
            "jacSimiliarity: 0.07986798679867987\n"
          ]
        }
      ]
    },
    {
      "cell_type": "code",
      "source": [
        "text1 =  \"this is a test to understand better what we are doing! yippie!\"\n",
        "text2 =  \"this is a test to understand better what we are doing! yippie!\"\n",
        "text3 =  \"this is a test to not forget  what we are doing! yippie! Same but different\"\n",
        "\n",
        "\n",
        "test_mat =  pd.DataFrame([text1,text2,text3], columns=[\"text\"])\n",
        "#print(test_mat.text)\n",
        "cM_test_1 = createCharacteristicMatrix(test_mat.text)\n",
        "print(cM_test_1)\n",
        "jacSim_test_1 = calculateSimJac(cM_test_1,1,2)\n",
        "jacSim_test_2 = calculateSimJac(cM_test_1,1,3)\n",
        "print(\"jacSimiliarity:\", jacSim_test_1, \"and\", jacSim_test_2)\n"
      ],
      "metadata": {
        "colab": {
          "base_uri": "https://localhost:8080/"
        },
        "id": "sPqLqVYUGgs7",
        "outputId": "d2c72f0d-c311-4f88-f953-19c40c17b4bd"
      },
      "execution_count": null,
      "outputs": [
        {
          "output_type": "stream",
          "name": "stdout",
          "text": [
            "       shingle   s0   s1   s2\n",
            "0    366920414  1.0  1.0  0.0\n",
            "1   1285067948  1.0  1.0  1.0\n",
            "2   1861508059  1.0  1.0  1.0\n",
            "3   3220349980  1.0  1.0  1.0\n",
            "4   1689852086  1.0  1.0  0.0\n",
            "..         ...  ...  ...  ...\n",
            "86  4077143596  0.0  0.0  1.0\n",
            "87  2794877598  0.0  0.0  1.0\n",
            "88  2679835442  0.0  0.0  1.0\n",
            "89   470867650  0.0  0.0  1.0\n",
            "90  3070962247  0.0  0.0  1.0\n",
            "\n",
            "[91 rows x 4 columns]\n",
            "A:B:C -> (57, 0, 34), Sum of A+B+C -> 91, CheckLen of Matrix -> 91\n",
            "A:B:C -> (36, 55, 0), Sum of A+B+C -> 91, CheckLen of Matrix -> 91\n",
            "jacSimiliarity: 1.0 and 0.3956043956043956\n"
          ]
        }
      ]
    },
    {
      "cell_type": "markdown",
      "source": [
        "### **Task3. Minhashing**\n",
        "MinHashing builds a minHash signature (in the form of a vector or a set) of a given length n from a given set of integers (a set of hashed shingles)."
      ],
      "metadata": {
        "id": "kmPXLIItUASh"
      }
    },
    {
      "cell_type": "markdown",
      "source": [
        "#### 3.2 HashSignature with Permutation"
      ],
      "metadata": {
        "id": "mH0kSkjNXL_X"
      }
    },
    {
      "cell_type": "code",
      "source": [
        "%%time\n",
        "def createPermSignVect(index,vec):\n",
        "  for e in zip(index,vec):\n",
        "    if e[1] == 1: return e[0]\n",
        "\n",
        "\n",
        "def signMatrixPermutations(charMatrix, permutations, createVec):\n",
        "  assert permutations > 0\n",
        "  signMatrix = pd.DataFrame(columns=charMatrix.columns[1:])\n",
        "  for _ in range(permutations):\n",
        "    #permutate all rows.\n",
        "    shuffled = charMatrix.sample(frac=1)\n",
        "    ll = list();\n",
        "    for e in shuffled.columns[1:]:\n",
        "      ll.append(createVec(shuffled.index,shuffled[e]))\n",
        "    signMatrix.loc[len(signMatrix)] = ll\n",
        "  return signMatrix\n",
        "\n",
        "\n",
        "#createPermSignVect(cM.index,cM[\"s0\"])\n",
        "signMatPer = signMatrixPermutations(cM,100,createPermSignVect)\n",
        "print(signMatPer)"
      ],
      "metadata": {
        "colab": {
          "base_uri": "https://localhost:8080/"
        },
        "id": "TRSHe0QLN1Po",
        "outputId": "13696677-9f32-45f5-d16f-105d82200eaa"
      },
      "execution_count": null,
      "outputs": [
        {
          "output_type": "stream",
          "name": "stdout",
          "text": [
            "      s0    s1    s2    s3    s4    s5    s6     s7     s8     s9\n",
            "0   2360  3707  5960  3175  3175  3175  3175   9893   3175  11170\n",
            "1     31  4734  6065  6505  7416  8631  3337  10116  10297  11244\n",
            "2   2875  4800  4482  6939  8376  8426  9018   4482     34   4482\n",
            "3   1750  5051  5626  2593  1558  2593  9704   9817  10480  11651\n",
            "4     14  2306  5199  5199  7199  7199  9587   1585   7015   5199\n",
            "..   ...   ...   ...   ...   ...   ...   ...    ...    ...    ...\n",
            "95   602  4747  5739  6693  3309  6800  5639   2866   6800   3493\n",
            "96  2667  3986  3589  4068  2549  4319  9582   8721   4068   4105\n",
            "97  2153  4106  5910  6596  7855  3339  9543   1879  10913  11509\n",
            "98  2527  3944  5898  6718  1962  6063  9417  10119   7224  11290\n",
            "99  2421  4683  5990  4683  8296  4683  9543  10050  10329  11220\n",
            "\n",
            "[100 rows x 10 columns]\n",
            "CPU times: user 379 ms, sys: 2.82 ms, total: 382 ms\n",
            "Wall time: 385 ms\n"
          ]
        }
      ]
    },
    {
      "cell_type": "markdown",
      "source": [
        "####  MinHashing with Hashfunctions"
      ],
      "metadata": {
        "id": "7WQ-jO8tbYUJ"
      }
    },
    {
      "cell_type": "markdown",
      "source": [
        "from: https://mccormickml.com/2015/06/12/minhash-tutorial-with-python-code/ <br/>\n",
        "So here’s how you compute the MinHash signature for a\n",
        "given document. Generate, say, 10 random hash functions. Take the first hash function,\n",
        "and apply it to all of the shingle values in a document. Find the minimum hash value produced (hey, “minimum hash”, that’s the name of the algorithm!)\n",
        "and use it as the first component of the MinHash signature. Now take the second hash function, and again find the minimum resulting hash value,\n",
        "and use this as the second component. And so on.\n"
      ],
      "metadata": {
        "id": "idxhVXfFyROQ"
      }
    },
    {
      "cell_type": "code",
      "source": [
        "\n",
        "'''\n",
        "Take k (e.g., k = 100) independent hash functions, e.g.,\n",
        "h(x) = (ax + b) % c\n",
        "'''\n",
        "#Create Hashfunctions\n",
        "def createMinHashCoeff(amount,coeff = list()):\n",
        "\n",
        "  # own values = a = random.randint(1,100000); b = random.randint(1,100000); c =  sympy.randprime(2,97)\n",
        "  # according to: https://mccormickml.com/2015/06/12/minhash-tutorial-with-python-code/\n",
        "  maxShingleID = 2**32-1\n",
        "  # http://compoasso.free.fr/primelistweb/page/prime/liste_online_en.php\n",
        "  nextPrime = 13570    #4294967311 next higher prime of 2**32-1\n",
        "                       #13570 shingles we have in nine docuemtns\n",
        "\n",
        "  assert amount > 0\n",
        "  arr = []\n",
        "  for _ in range(amount):\n",
        "    #a = random.randint(1,100000); b = random.randint(1,100000); c =  sympy.randprime(2,97)\n",
        "    a = random.randint(1, maxShingleID); b = random.randint(1,maxShingleID); c = nextPrime\n",
        "    arr.append((a,b,c))\n",
        "  cf = set(arr)\n",
        "\n",
        "  return cf if len(cf) == amount else createMinHashCoeff(amount)\n",
        "\n"
      ],
      "metadata": {
        "id": "S4jUf2HLXYA4"
      },
      "execution_count": null,
      "outputs": []
    },
    {
      "cell_type": "code",
      "source": [
        "'''\n",
        "Take k (e.g., k = 100) independent hash functions, e.g.,\n",
        "h(x) = (ax + b) % c\n",
        "'''\n",
        "\n",
        "### For a single Row\n",
        "\"\"\"\n",
        "What you do is hash each element of A and each element of B, and look at the minimum hash value of each set.\n",
        "As it turns out, the probability of these two hashes being equal is exactly the Jaccard similarity of the two sets. Wow -- that is elegant!\n",
        "http://web.eecs.utk.edu/~jplank/plank/classes/cs494/494/notes/Min-Hash/index.html\n",
        "\"\"\"\n",
        "def createMinHashRow(hashedShingle,col,index,coeffList):\n",
        "  hcol = []\n",
        "  for coeffs in coeffList:\n",
        "    min_val = math.inf; min_pos = math.inf #  i have seen implementations using min_val and min_pos -> i guess its the same in the end? Yes. Scores for testing reamined the same.\n",
        "    for i in zip(hashedShingle,col,index):\n",
        "      if i[1] == 1:\n",
        "        #(ax + b) % c\n",
        "        h = (int(coeffs[0])*int(i[0]) + int(coeffs[1])) % int(coeffs[2])\n",
        "        if min_val > h:\n",
        "          min_val = h\n",
        "          min_pos = i[2]\n",
        "    #print(min_val)\n",
        "    hcol.append(min_pos) # we are using the position of min_val instead of the actual min_val?\n",
        "  return hcol\n",
        "\n",
        "\n",
        "# Function for just a single row\n",
        "'''\n",
        "mHsCol = createMinHashRow(cM[\"shingle\"].values,cM[\"s0\"].values,cM.index, coeffs)\n",
        "mHsCol1 = createMinHashRow(cM[\"shingle\"].values,cM[\"s1\"].values,cM.index, coeffs)\n",
        "# with own randomly set coefficients\n",
        "#[0,0,0,0]\n",
        "#[0,0,0,0]\n",
        "#\n",
        "print(mHsCol)\n",
        "'''"
      ],
      "metadata": {
        "colab": {
          "base_uri": "https://localhost:8080/",
          "height": 53
        },
        "id": "kiaKGjuknMxV",
        "outputId": "5c9d7037-9e92-4491-e88d-1644397feb28"
      },
      "execution_count": null,
      "outputs": [
        {
          "output_type": "execute_result",
          "data": {
            "text/plain": [
              "' \\nmHsCol = createMinHashRow(cM[\"shingle\"].values,cM[\"s0\"].values,cM.index, coeffs)\\nmHsCol1 = createMinHashRow(cM[\"shingle\"].values,cM[\"s1\"].values,cM.index, coeffs)\\n# with own randomly set coefficients\\n#[0,0,0,0] \\n#[0,0,0,0]\\n#\\nprint(mHsCol) \\n'"
            ],
            "application/vnd.google.colaboratory.intrinsic+json": {
              "type": "string"
            }
          },
          "metadata": {},
          "execution_count": 18
        }
      ]
    },
    {
      "cell_type": "code",
      "source": [
        "%%time\n",
        "\"\"\"\n",
        "Thus, we can form from matrix M a signature matrix, in which\n",
        "the ith column of M is replaced by the minhash signature for (the set of) the\n",
        "ith column.\n",
        "Note that the signature matrix has the same number of columns as M but\n",
        "only n rows. Even if M is not represented explicitly, but in some compressed\n",
        "form suitable for a sparse matrix (e.g., by the locations of its 1’s), it is normal\n",
        "for the signature matrix to be much smaller than M\n",
        "\"\"\"\n",
        "\n",
        "# CREATE COEFFICIENTS FOR HASHFUNCTIONS\n",
        "coeffs = createMinHashCoeff(100)\n",
        "\n",
        "def signMatrix(minHashRow,charMatrix,coeffList):\n",
        "  #use either : f\"h(x)=({x[0]}*x + {x[1]} % {x[2]}\" or h[i] as keystr\n",
        "  #keystr = signMat = pd.DataFrame([f\"h({i})\" for i in range(1,len(coeffList)+1)], columns=[\"hashfunction\"])\n",
        "  signMat = pd.DataFrame([])\n",
        "  for e in charMatrix.columns[1:]:\n",
        "    charM = charMatrix\n",
        "    signMat[e] = minHashRow(charM[\"shingle\"].values,charM[e],charM.index, coeffList)\n",
        "  return signMat\n",
        "\n",
        "signMat = signMatrix(createMinHashRow, cM,coeffs)\n",
        "print(signMat)"
      ],
      "metadata": {
        "colab": {
          "base_uri": "https://localhost:8080/"
        },
        "id": "Lyv8soH8Mm0A",
        "outputId": "b6b6aff4-49c2-4d46-a656-2b622ab2fb78"
      },
      "execution_count": null,
      "outputs": [
        {
          "output_type": "stream",
          "name": "stdout",
          "text": [
            "      s0    s1    s2    s3    s4    s5    s6     s7     s8     s9\n",
            "0   1683  4645   289  3455  7604   289  8158   1793  10579   4645\n",
            "1   2359  4143  5666  6689  4143   581  9239   4273  11073   4143\n",
            "2     43   735   735    43    43    43    43     90     43     43\n",
            "3    855  2047   855   925  2047   925   925    925  10654    925\n",
            "4   1767  1767  5665  6150  8288  8582  9386  10091   5665   1767\n",
            "..   ...   ...   ...   ...   ...   ...   ...    ...    ...    ...\n",
            "95   135   987  1069   422   135  1107   987   1107    987   1107\n",
            "96   627   627  2035   627   627   627   627   9730   9815   2035\n",
            "97  1950  1950  1950  1950  1950  6071  9675  10068  10148   1950\n",
            "98  2366  4142  5750  4881  8402  8580  9494   4895   1248   1248\n",
            "99    57  4050    57  6680  8389  8582   720     18  10552  11748\n",
            "\n",
            "[100 rows x 10 columns]\n",
            "CPU times: user 5.21 s, sys: 0 ns, total: 5.21 s\n",
            "Wall time: 5.24 s\n"
          ]
        }
      ]
    },
    {
      "cell_type": "markdown",
      "source": [
        "#### 4. Compare Signatures\n",
        "A class CompareSignatures estimates the similarity of two integer vectors – minhash signatures – as a fraction of components in which they agree."
      ],
      "metadata": {
        "id": "bX6t8dKoeyct"
      }
    },
    {
      "cell_type": "code",
      "source": [
        "def getSigSim(a,b):\n",
        "  assert len(a) == len(b)\n",
        "  count = 0\n",
        "  for i in zip(a,b):\n",
        "     if i[0] == i[1]: count +=1\n",
        "  return count / len(a)\n",
        "\n",
        "\n",
        "sh1 = signMat[\"s0\"].values; sh2 = signMat[\"s1\"].values\n",
        "sp1 = signMatPer[\"s0\"].values; sp2 = signMatPer[\"s1\"].values\n",
        "\n",
        "sH = getSigSim(sh1,sh2)\n",
        "sP = getSigSim(sp1,sp2)\n",
        "# Estimates are often similiar.\n",
        "# sh and sP are changing, depending on randomness.\n",
        "\n",
        "print(sH, sP, \"for jacSim:\",calculateSimJac(cM,1,2, p=False))\n",
        "#For 300 hashfunctions / permutations 0.12056737588652482 0.10909090909090909\n",
        "#For 600 hashfunctions / permutations 0.14145383104125736 0.08548707753479125\n",
        "#For 100 hashfunctions / permutations 0.10204081632653061 0.10309278350515463\n",
        "\n",
        "\n",
        "#With test matrix\n",
        "coeffs_test = createMinHashCoeff(1000)\n",
        "signMatTest = signMatrix(createMinHashRow, cM_test_1,coeffs_test)\n",
        "signMatPerTest = signMatrixPermutations(cM_test_1,1000,createPermSignVect)\n",
        "\n",
        "sht1 = signMatTest[\"s0\"].values; sht2 = signMatTest[\"s1\"].values;  sht3 = signMatTest[\"s2\"].values\n",
        "spt1 = signMatPerTest[\"s0\"].values; spt2 = signMatPerTest[\"s1\"].values;  spt3 = signMatPerTest[\"s2\"].values\n",
        "\n",
        "sHt = getSigSim(sht1,sht2)\n",
        "sPt = getSigSim(spt1,spt2)\n",
        "\n",
        "#Checking is similar values are similar.\n",
        "print(sHt, sPt, \"for jacSim:\",calculateSimJac(cM_test_1,1,2, p=False))\n",
        "#For mostly similiar strings:\n",
        "sHt1 = getSigSim(sht1,sht3)\n",
        "sPt1 = getSigSim(spt1,spt3)\n",
        "print(\"NOTE, we set a very high  hash / permutation number for test --> very accurate resutls\")\n",
        "print(sHt1, sPt1, \"for jacSim:\",calculateSimJac(cM_test_1,1,3, p=False))"
      ],
      "metadata": {
        "colab": {
          "base_uri": "https://localhost:8080/"
        },
        "id": "FytBq3CP7TOx",
        "outputId": "3365d5db-2554-437b-afbd-483a1bd6f8fe"
      },
      "execution_count": null,
      "outputs": [
        {
          "output_type": "stream",
          "name": "stdout",
          "text": [
            "0.14 0.09 for jacSim: 0.08679319889284302\n",
            "1.0 1.0 for jacSim: 1.0\n",
            "NOTE, we set a very high  hash / permutation number for test --> very accurate resutls\n",
            "0.39 0.408 for jacSim: 0.3956043956043956\n"
          ]
        }
      ]
    },
    {
      "cell_type": "markdown",
      "source": [
        "### Locality Sensitive Hashing (LSH)\n",
        "\n",
        "(Optional task for extra 2 bonus points) A class LSH that implements the LSH technique: given a collection of minhash signatures (integer vectors) and a similarity threshold t, the LSH class (using banding and hashing) finds candidate pairs of signatures agreeing on at least a fraction t of their components."
      ],
      "metadata": {
        "id": "sHb9yAVc-mDn"
      }
    },
    {
      "cell_type": "markdown",
      "source": [],
      "metadata": {
        "id": "pTh5PDJuiD3D"
      }
    },
    {
      "cell_type": "code",
      "source": [
        "#check https://www.youtube.com/watch?v=e_SBq3s20M8&ab_channel=JamesBriggs @ 21min\n",
        "def splitVec(vec,b,r):\n",
        "  assert len(vec) % b == 0\n",
        "  assert len(vec) / b % r == 0\n",
        "  subvecs = []\n",
        "  for i in range(0,len(vec)-1,r):\n",
        "    subvecs.append(vec[i:i+r])\n",
        "  return subvecs\n",
        "\n",
        "#BBC - for hashMatrix\n",
        "b1 = splitVec(signMat[\"s1\"].values,20,5)\n",
        "b2 = splitVec(signMat[\"s2\"].values,20,5)\n",
        "\n",
        "# for testdata\n",
        "t1 = splitVec(signMatTest[\"s1\"].values,20,5)\n",
        "t2 = splitVec(signMatTest[\"s2\"].values,20,5)\n",
        "print(t1)"
      ],
      "metadata": {
        "id": "Ho0asR4Z7dkf",
        "colab": {
          "base_uri": "https://localhost:8080/"
        },
        "outputId": "f62b5588-1115-4c0b-d686-b25ec8165ec4"
      },
      "execution_count": null,
      "outputs": [
        {
          "output_type": "stream",
          "name": "stdout",
          "text": [
            "[array([32, 51, 27, 41, 43]), array([47, 31, 48, 23, 25]), array([10, 28, 10,  2, 56]), array([18, 36, 49, 11,  6]), array([ 7, 18, 51,  2, 37]), array([13, 47, 27, 49, 37]), array([32, 10, 48, 11,  2]), array([55,  2, 19, 49, 39]), array([10, 47, 29, 43, 14]), array([33, 26, 51, 42, 55]), array([44,  3, 27, 12, 25]), array([42, 53, 10, 33, 44]), array([26,  7, 54, 28, 54]), array([44, 11, 31, 18, 22]), array([38,  9, 16, 35, 28]), array([40,  7, 44, 16,  4]), array([21, 41, 26, 41,  0]), array([42, 29, 26,  5,  1]), array([23, 25,  4,  8, 20]), array([15, 22, 49, 17, 46]), array([27, 54,  3, 44,  1]), array([ 3, 10,  9, 33, 51]), array([27, 53, 51, 25, 14]), array([25, 44, 34, 22, 49]), array([45,  7, 19, 51, 26]), array([12, 29, 40,  3,  3]), array([38, 31,  0, 27,  9]), array([55, 49,  1, 14, 25]), array([ 2, 40, 52, 30, 55]), array([41, 44,  6, 17, 30]), array([11, 39, 36, 48, 13]), array([19,  3, 42,  0,  6]), array([21, 45, 34, 25, 28]), array([28, 55,  8, 55,  9]), array([32, 25,  9, 18, 32]), array([15, 48, 29, 55, 38]), array([32, 15, 50,  4, 18]), array([51, 54, 39, 46, 25]), array([24, 56, 15, 54, 55]), array([54,  6, 54,  9, 34]), array([25,  6, 21, 22, 53]), array([15, 22, 41, 10, 19]), array([17, 17, 30, 36,  5]), array([34, 21,  0, 45,  6]), array([47, 37, 23, 25, 45]), array([ 5,  2, 50, 18,  0]), array([52, 51, 28, 31, 31]), array([50, 33, 32, 41,  3]), array([14, 24, 38,  5, 42]), array([ 5, 21, 23, 30, 56]), array([14,  6, 45, 53,  9]), array([28, 56, 26, 49, 48]), array([38, 23, 39, 55, 15]), array([ 1,  2, 47,  5, 46]), array([56, 41, 28, 20, 50]), array([33, 14, 23, 15, 19]), array([30, 46, 28,  7, 51]), array([20, 10, 29, 30, 20]), array([19, 37, 18, 40, 42]), array([ 3, 45, 35, 28, 35]), array([ 0,  3, 23, 14, 30]), array([28, 44, 22, 26,  7]), array([49, 12, 37, 25, 42]), array([38, 25, 22, 12, 22]), array([45,  8, 51, 14, 54]), array([17, 33, 13, 56,  2]), array([56, 20, 13, 18, 33]), array([15, 28, 52, 40, 36]), array([ 8, 30, 15, 44,  5]), array([ 7, 36, 16, 51, 40]), array([29, 27, 41, 24,  6]), array([41, 35, 35, 35, 32]), array([32, 53, 14, 51,  6]), array([53, 12, 44, 51, 39]), array([46, 38, 14, 26, 40]), array([29, 14, 45, 37,  3]), array([13, 24, 56, 14, 12]), array([42, 24,  3, 36, 40]), array([34,  7, 48, 54,  0]), array([56, 55,  7, 46, 46]), array([48, 40, 53, 21,  2]), array([ 1,  0, 24, 33,  1]), array([21, 16, 39, 33, 53]), array([22, 22, 32, 26, 14]), array([43, 27, 11, 49, 50]), array([12,  2, 42, 26, 20]), array([46, 43, 23, 55, 23]), array([41, 19, 23, 36, 50]), array([12, 29, 29, 30,  8]), array([36, 39, 36, 18, 39]), array([13,  3, 47, 23,  1]), array([ 2, 30, 13,  9,  5]), array([11, 55, 23, 26, 17]), array([44,  8,  2, 10, 27]), array([ 9, 29, 47, 26,  3]), array([24, 18, 22,  4,  0]), array([49, 16, 46, 43,  2]), array([22,  9, 36, 56, 27]), array([10, 21, 22, 16,  1]), array([42, 26, 35, 10,  0]), array([45, 46,  6, 40,  5]), array([32, 17,  8,  7, 22]), array([16, 26, 48, 24, 54]), array([56, 37, 12, 38, 19]), array([11, 54,  9,  0, 15]), array([42, 28,  9, 26, 30]), array([49, 20, 49, 25, 51]), array([31, 22, 22, 44, 11]), array([16,  2,  9, 20, 22]), array([19, 39, 34,  1, 15]), array([ 5,  1, 53, 17, 30]), array([49, 13, 35, 26, 36]), array([36,  2,  5,  3, 13]), array([17, 13, 48, 12, 19]), array([12, 35, 32, 48, 28]), array([ 5, 34, 13, 38, 53]), array([48, 34, 54, 49, 55]), array([54, 17, 24, 38, 24]), array([11, 27, 55, 47, 16]), array([24, 37, 44,  9, 46]), array([ 7, 18, 54, 23,  3]), array([55, 18, 29, 18, 29]), array([10,  4, 44, 34, 12]), array([15, 12, 14, 14, 19]), array([54, 26, 36, 38,  8]), array([27,  4,  9, 12, 46]), array([48, 39, 12, 44,  6]), array([13, 33,  7, 16, 46]), array([12,  3, 15, 18, 39]), array([44, 20, 15, 38, 17]), array([55, 40, 55, 23, 25]), array([ 1, 41, 34, 31, 41]), array([56, 13, 50, 20, 41]), array([38, 10, 44,  8,  3]), array([56, 30,  7, 29, 45]), array([ 3, 55, 31, 55, 51]), array([40, 30, 36, 32,  0]), array([30,  7, 14, 51,  4]), array([21, 14,  4, 43, 48]), array([21, 54, 18, 36, 37]), array([ 5,  8, 12, 22, 38]), array([ 7, 54,  5, 51, 42]), array([21,  4, 37,  4, 40]), array([51, 31, 33, 45, 30]), array([23, 51, 45, 46, 41]), array([22, 48, 28,  5, 24]), array([30, 25,  1, 49,  8]), array([ 5, 50, 26,  1, 29]), array([48, 28, 11,  3, 48]), array([56, 29, 38, 28, 36]), array([23, 17, 54, 45, 54]), array([54, 11, 25, 18, 14]), array([14, 37, 37,  2, 23]), array([10, 31, 38, 27, 43]), array([52, 31, 11, 18, 50]), array([19, 37, 42, 39, 28]), array([ 6,  7,  9, 42, 35]), array([22,  0, 16, 53,  4]), array([12, 14, 22, 49, 16]), array([35, 33, 13, 56,  0]), array([19,  9, 27, 55,  7]), array([39, 47, 34, 19,  1]), array([16, 22, 31, 36, 22]), array([ 7, 40, 10, 33, 50]), array([39, 24, 36, 32, 26]), array([49,  6, 15, 24, 35]), array([14, 33, 55, 45, 45]), array([39, 31, 55,  5, 46]), array([48, 41, 11,  8, 46]), array([36, 45, 14, 16, 42]), array([35,  8, 49, 24, 51]), array([44, 35, 19, 23, 52]), array([46, 54, 27, 46, 40]), array([17, 29, 33, 33, 47]), array([52, 15, 13, 26, 48]), array([34, 33, 35, 14, 34]), array([11, 38, 14, 44, 31]), array([ 4, 14, 36, 17, 55]), array([20,  8,  7, 45, 44]), array([ 3,  0,  7, 32, 27]), array([33,  3,  9, 11,  1]), array([22, 25, 45, 31, 55]), array([33, 31,  8, 46, 39]), array([24, 50, 43,  2, 30]), array([ 6, 44, 18, 16, 39]), array([41, 19, 36, 27,  2]), array([32, 20, 49, 31,  8]), array([23, 14,  4, 20, 18]), array([10, 49, 34, 37, 24]), array([ 7, 21, 31,  9, 25]), array([30, 45, 43, 17, 39]), array([28, 11, 11,  7,  5]), array([ 7, 34, 45, 22, 34]), array([26,  2, 44,  0, 41]), array([25, 44, 25, 33, 27]), array([45, 24,  9, 27, 44]), array([40, 52, 49, 29, 12]), array([14, 19,  1, 51, 16]), array([47,  6, 55, 48,  4]), array([32, 38,  7, 18, 36])]\n"
          ]
        }
      ]
    },
    {
      "cell_type": "code",
      "source": [
        "def getCandidatePairs(v1,v2, t):\n",
        "  assert len(v1) == len(v2)\n",
        "  for e in zip(v1,v2):\n",
        "    # we can reuse getSigSim / used for comparing whole signatures\n",
        "    if getSigSim(e[0],e[1]) > t:\n",
        "      return True\n",
        "  return False\n",
        "\n",
        "#is candidate pair?\n",
        "# BBC\n",
        "print(\"t = 0.5\",getCandidatePairs(b1,b2,0.5), \"| t = 0.1\",getCandidatePairs(b1,b2,0.1))\n",
        "# Testdata\n",
        "print(\"t = 0.9\",getCandidatePairs(t1,t2,0.99), \"| t = 0.1\",getCandidatePairs(t1,t2,0.1))"
      ],
      "metadata": {
        "colab": {
          "base_uri": "https://localhost:8080/"
        },
        "id": "ajQACKf3-eRg",
        "outputId": "8f05c88a-41e9-4234-c854-47c8393f4f21"
      },
      "execution_count": null,
      "outputs": [
        {
          "output_type": "stream",
          "name": "stdout",
          "text": [
            "t = 0.5 False | t = 0.1 True\n",
            "t = 0.9 True | t = 0.1 True\n"
          ]
        }
      ]
    },
    {
      "cell_type": "markdown",
      "source": [
        "#### Testprogramm"
      ],
      "metadata": {
        "id": "dylAvCC0uUSZ"
      }
    },
    {
      "cell_type": "code",
      "source": [
        "def findSimilarDocuments(signMatrix, t):\n",
        "  similarItems = []\n",
        "\n",
        "  for i in range(len(signMatrix.columns)):\n",
        "    for j in range(i+1,len(signMatrix.columns)):\n",
        "      if getSigSim(signMatrix[\"s\"+str(i)].values, signMatrix[\"s\"+str(j)].values) > t:\n",
        "         similarItems.append({i:j})\n",
        "  return similarItems\n",
        "\n",
        "print(len(signMat.columns))\n",
        "sI010 = findSimilarDocuments(signMat,0.10)\n",
        "sI015 = findSimilarDocuments(signMat,0.15)\n",
        "sI030 = findSimilarDocuments(signMat,0.30)\n",
        "print(\"Similar Documents with 0.10 Similariy: \", sI010)\n",
        "print(\"Similar Documents with 0.15 Similariy :\", sI015)\n",
        "print(\"Similar Documents with 0.30 Similariy :\", sI030)"
      ],
      "metadata": {
        "colab": {
          "base_uri": "https://localhost:8080/"
        },
        "id": "-CVIdkZKuYs6",
        "outputId": "e7c2644c-60fc-4a94-a734-eda76c7b2ee2"
      },
      "execution_count": null,
      "outputs": [
        {
          "output_type": "stream",
          "name": "stdout",
          "text": [
            "10\n",
            "Similar Documents with 0.10 Similariy:  [{0: 1}, {0: 3}, {0: 4}, {0: 9}, {1: 3}, {1: 4}, {1: 9}, {3: 4}, {3: 5}, {3: 6}, {3: 9}, {4: 8}, {4: 9}, {6: 9}, {7: 9}, {8: 9}]\n",
            "Similar Documents with 0.15 Similariy : [{1: 9}, {3: 9}, {4: 9}]\n",
            "Similar Documents with 0.30 Similariy : []\n"
          ]
        }
      ]
    },
    {
      "cell_type": "code",
      "source": [],
      "metadata": {
        "id": "Cvnn7SEmmRCA"
      },
      "execution_count": null,
      "outputs": []
    }
  ]
}
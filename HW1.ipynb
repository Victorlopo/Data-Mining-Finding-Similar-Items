{
  "nbformat": 4,
  "nbformat_minor": 0,
  "metadata": {
    "colab": {
      "provenance": [],
      "collapsed_sections": []
    },
    "kernelspec": {
      "name": "python3",
      "display_name": "Python 3"
    },
    "language_info": {
      "name": "python"
    }
  },
  "cells": [
    {
      "cell_type": "markdown",
      "source": [
        "# Homework 1: Finding Similar Items: Textually Similar Documents\n",
        "\n",
        "You are to implement the stages of finding textually similar documents based on Jaccard similarity using the shingling, minhashing, and locality-sensitive hashing (LSH) techniques and corresponding algorithms. The implementation can be done using any big data processing framework, such as Apache Spark, Apache Flink, or no framework, e.g., in Java, Python, etc. To test and evaluate your implementation, write a program that uses your implementation to find similar documents in a corpus of 5-10 or more documents, such as web pages or emails.\n",
        "\n",
        "The stages should be implemented as a collection of classes, modules, functions, or procedures depending on the framework and the language of your choice. Below, we describe sample classes implementing different stages of finding textually similar documents. You do not have to develop the exact same classes and data types described below. Feel free to use data structures that suit you best\n",
        "\n",
        "\n",
        "### Load data to google colab via google drive\n"
      ],
      "metadata": {
        "id": "Iin6ODy7S4Dk"
      }
    },
    {
      "cell_type": "code",
      "execution_count": 2,
      "metadata": {
        "id": "GBhOczyGpoEm",
        "colab": {
          "base_uri": "https://localhost:8080/"
        },
        "outputId": "cd69ce23-6be6-4659-9476-c1aa8292b327"
      },
      "outputs": [
        {
          "output_type": "stream",
          "name": "stdout",
          "text": [
            "Mounted at /content/drive\n"
          ]
        }
      ],
      "source": [
        "#http://mlg.ucd.ie/datasets/bbc.html\n",
        "try: \n",
        "  import os\n",
        "  import pandas as pd\n",
        "  import numpy as np\n",
        "  import math\n",
        "  import binascii\n",
        "  import random\n",
        "  import sympy\n",
        "except: \n",
        "  print(\"Import Error\")\n",
        "\n",
        "#Importing data\n",
        "#With google docs \n",
        "from google.colab import drive\n",
        "drive.mount('/content/drive')\n",
        "paths =['drive/My Drive/Colab Notebooks/data/bbc-fulltext/bbc/']\n",
        "#OTHERWISE \n",
        "''' \n",
        "define paths = [HERE]\n",
        "'''\n",
        "\n",
        "def flatmap(array):\n",
        "  return [element for element in innerArray for innerArray in array]\n",
        "\n",
        "#Simple helper function\n",
        "def extract_to_txt(path): \n",
        "  with open(path) as f:\n",
        "    contents = f.readlines()\n",
        "  return contents \n",
        "\n",
        "\n",
        "df = []\n",
        "\n",
        "#Create DF with categories\n",
        "for folder in paths: \n",
        "  for topic in os.listdir(folder): \n",
        "    topic_pth = f\"{folder}{topic}/\"\n",
        "    for txt in os.listdir(topic_pth):\n",
        "        text = extract_to_txt(topic_pth+txt)\n",
        "        header = \"\".join(text[0])\n",
        "        df.append([header,\"\".join(text[1::]), topic])\n",
        "\n"
      ]
    },
    {
      "cell_type": "code",
      "source": [
        "df = pd.DataFrame(df, columns=[\"headline\", \"text\",\"label\"])\n",
        "\n",
        "print(df.columns)\n",
        "\n",
        "type(df.iloc[0].text)\n",
        "\n",
        "arr = []\n",
        "for id, ele in df.iterrows(): \n",
        "  df.iloc[id].text = ele.text.replace(\"\\n\",\"\").replace('\"',\"\").lower()\n",
        "  df.iloc[id].headline = ele.headline.replace(\"\\n\",\"\").lower()\n",
        "\n",
        "\n",
        "print(df.head(5))"
      ],
      "metadata": {
        "id": "C-G7FivXt8OF",
        "colab": {
          "base_uri": "https://localhost:8080/"
        },
        "outputId": "4eddd91d-d6bb-4ead-fe8f-cf2721de0084"
      },
      "execution_count": 3,
      "outputs": [
        {
          "output_type": "stream",
          "name": "stdout",
          "text": [
            "Index(['headline', 'text', 'label'], dtype='object')\n",
            "                                 headline  \\\n",
            "0           council tax rise 'reasonable'   \n",
            "1         baron kinnock makes lords debut   \n",
            "2  election deal faltered over heath role   \n",
            "3          brown shrugs off economy fears   \n",
            "4        assembly ballot papers 'missing'   \n",
            "\n",
            "                                                text     label  \n",
            "0  welsh councils should set their taxes at reaso...  politics  \n",
            "1  former labour leader neil kinnock has official...  politics  \n",
            "2  the tories failed to hold onto power in 1974 a...  politics  \n",
            "3  gordon brown is to freeze petrol duty increase...  politics  \n",
            "4  hundreds of ballot papers for the regional ass...  politics  \n"
          ]
        }
      ]
    },
    {
      "cell_type": "markdown",
      "source": [
        "\n",
        "### **Task 1. Shingling function**\n",
        "\n",
        "A class Shingling that constructs k–shingles of a given length k (e.g., 10) from a given document, computes a hash value for each unique shingle and represents the document in the form of an ordered set of its hashed k-shingles."
      ],
      "metadata": {
        "id": "E0kuesoToS17"
      }
    },
    {
      "cell_type": "code",
      "source": [
        "def shingling(k=5,txt=\"\"): \n",
        "  arr = []\n",
        "  for i in range(0,len(txt)-k):\n",
        "    arr.append(txt[i:i+k])\n",
        "  return set(arr)\n",
        "  \n",
        "def toHash(shing_list): \n",
        "  return [binascii.crc32(bytes(x.encode('utf-8'))) for x in shing_list]\n",
        "\n",
        "shinglesDoc1 = shingling(8,df.iloc[0].text)\n",
        "shinglesDoc2 = shingling(8,df.iloc[1].text)\n",
        "print(shinglesDoc1)"
      ],
      "metadata": {
        "colab": {
          "base_uri": "https://localhost:8080/"
        },
        "id": "2wAulTMS6kHM",
        "outputId": "0a51ceec-1bdd-4295-c49c-a8935071990a"
      },
      "execution_count": 5,
      "outputs": [
        {
          "output_type": "stream",
          "name": "stdout",
          "text": [
            "{' taxes c', 'h wales ', 'omes wer', ' upwards', 'nd due t', 'hey have', 'n bob we', 'aid: wal', 't. the £', 'ded by c', 'gordon b', 'inance s', 'nister s', 'isappoin', 'rman sai', 'h local ', 'ue to re', 'h. mike ', ' aware o', ' for loc', 'ged coun', 'hree hom', 'expendit', 'ugely di', 'effect o', 'she said', 'r german', 'd reband', 'crat cou', 'nt hugel', 'y face i', 'se the f', 'nities a', 'lsh coun', ' propert', 'on. he a', 'an for f', 'pending ', 't depriv', 'in wales', ' to keep', 'on servi', ' have mo', 'les and ', 'd a thir', 'ears and', '7.4m fro', 'rived co', 'dded: ar', 'erman sa', 'o the vi', 'wn. but ', \"'s local\", 'wellingt', 'vels, ev', ' able to', 'nment. t', ' often c', 'ven an a', 'ouncil t', 'is anger', 'ant cuts', ' cuts in', 'ean stee', 'sh liber', 'sembly g', 'enables ', ' househo', 'ition pa', 'utmost t', 'ties to ', \"cymru's \", 'create a', 'at for t', ' funds. ', 'ax, part', 'ties. sh', 'unds. ms', 'ities ha', ' been sh', 'r local ', 'es due t', 'ses were', 'ir utmos', ' a minim', 'nnounced', ' listene', 'ed to th', 'of the p', 'ely disa', 'llor gor', 'either a', 'e is tak', 'parties ', 'ices pro', 'll £7.4m', 'imum. bu', 'sman bob', ' yet aga', 'lable bu', 't, which', 'gation o', 'ided by ', 'll likel', 'l that r', 'domestic', 'nt assoc', 'lement i', 'spokesma', ' mean ei', 'lsh libe', ' £3.2bn ', ' is taki', 'er for c', 'g increa', 'it is an', 'e the fu', 't their ', 'had said', 'ved up a', 'ies said', 'have mov', 'al level', 'ow to pl', 'ding of ', 'al expen', 'ho have ', 've liste', 'gely dis', '4m from ', 'f local ', 'ittle ch', ' rises w', ' in capi', 's with w', 'id mr we', 'iven an ', 'he most ', 'ending r', ' our pro', 'ciation ', 'visited ', ' so ofte', 'mbly, cl', 'c proper', 'nounceme', 'it is no', 'ng of co', 'l expend', 'at a loc', 's to ser', 'their se', 'els afte', 'l mean e', 'one in t', 't said t', 'reduce w', 'i am awa', 'ture yea', 'ir taxes', 't signif', 'esman gl', 'rvices i', 'kely to ', 'se. on m', 'redistri', '. after ', 'e well-m', 'ncils wi', 'es have ', 'ot whing', 'l for lo', 'e minims', 'cularly ', 'le to ar', 'valued u', 'ases int', 'at counc', ' the lab', 'tax to a', ' and i a', 'n settle', ' will co', 'rties. s', ' increas', 'nance sp', ' said mr', 'years an', 'nimum. b', 'aid coun', 'taking s', 'ep part ', 'sures on', ' the uk ', 'y discus', ' service', ' inevita', 'he well-', 't so oft', 'ble but ', 'king spi', 'ent that', 'evitably', 'to devel', 'n steep ', 'ital tha', 'ribution', 'minister', 'es and t', 'ion of d', 'll conti', 'ow the w', 'ery verg', ' resourc', 'to servi', 'ation of', ' which w', 's not wh', 'els, eve', 'rates. s', ' a large', 'led the ', 'rises. i', 'y chance', 'n partie', 'o keep c', 'e moving', 'of diffi', 'eir taxe', 'he fundi', 'll-manag', 'es to ke', ' authori', 'his is a', 'in the g', ' expendi', 'ter for ', 'me avail', 'ce spoke', 'now from', ' visited', 'deal of ', 'ce while', 'hey are ', ' availab', ' of busi', 'ed the a', 'ement hu', 'ernment.', 'al for l', ', which ', 'ficulty.', 'ars and ', ' grant -', 'ent.fina', 'd said o', 'sh counc', 'nt spoke', 'rs and a', ' unavoid', 'which en', 'that res', 't now to', 'l tax, m', ' come av', 's. i hav', 'ointing.', 'by at le', 'own. but', 'vels aft', 'f decept', ' for tho', 'said it ', 'at reaso', ' to prov', 'sembly, ', 'om redis', 'e of 6%,', 'ls after', 'taxes wo', ' people ', 'nd inevi', 'uts to s', '. she sa', ' deal of', 'ure supp', 're still', 'd: aroun', 'l democr', 'eeks and', '. i have', 's to man', 'till lik', 'easonabl', ' and acc', 'hird of ', 'hat they', 'mr germa', ' gordon ', 'ant to h', 'ich enab', 'd charge', 'hancello', 'leaders ', ' pressur', 'ple to a', 'ndom red', 'd upward', 'see very', 'ike in c', 'f torfae', 'e settle', 'ssex to ', 'ons with', 's said r', 'e pressu', 'nfident ', 'he answe', 'l tax ri', 'ls will ', 'anding o', 'eption. ', 'ssions w', 'o claim ', ' funding', 'one band', 'e to the', 'operties', 's of wal', 'and.the ', 'cil lead', ' a great', ' for the', 'o double', 'ts at a ', 'e uk tre', 'ils visi', 'three ho', 'ble figu', ' from th', 'tion par', 'ordon br', 'reate a ', 'culty. c', 'el of co', 'erman, l', 'oving up', \"mru's lo\", ' average', 'for coun', 't deal o', 'round a ', 'st one b', 'l likely', 'ng given', ' start n', ' number ', ' minimse', 't associ', 'l allow ', 'and reco', 'said: wa', ': this i', 'r wellin', 'ssociati', ' it is n', 't is vit', 'rats in ', 'provide ', 'househol', 'itably f', 'the most', 'ut counc', 'added: a', 'of local', 'is a goo', 'ld see v', 'at resou', ' by chan', 'to plan ', 'ouncemen', 'b wellin', 'brown. b', ' domesti', 'ss suppo', 't the ra', 'ate a gr', 'l leader', 'ed amoun', 's is not', 'st depri', 'says the', 'grant to', 'al of di', 'and its ', 'that one', 'eir serv', ' decepti', 'in servi', 'by for i', 'ds have ', ', leader', 'eep coun', 'amount o', 'he major', ' the wel', 'great de', ' continu', 'evels af', ' amount ', ' their t', 'stributi', 'd commun', 'ith the ', 'ld set t', ' a good ', 's essex ', 'her a ma', 'to lobby', ' on serv', ' massive', 'n the gr', 'emocrats', 'd by cou', ' settlem', 'ognise t', 'local au', 've of th', 'ome from', 've about', 'e to reb', 's is a g', 'rnment, ', 'conserva', ' by at l', ' the lib', 's with t', 'manage t', 'or incre', 'an, lead', 'd deal f', 'cils wit', 'nging as', ' for cou', ' local g', 'the libe', 'nt weeks', ' views o', 'rman, le', 'ng rises', 'sh local', 'e start ', 'this wil', 's in the', 'ing rise', 'n capita', 'confiden', 'd: i hav', ' discuss', 'cerns th', 'in addit', 'ery litt', ' the lev', 'uce whil', 'ury anno', 'nd the c', 'of 6%, s', 'y at lea', 's the fu', ' a 16.4%', 'ngton. i', 'ces and ', 't spokes', ' the min', 'ound a t', 'orth wal', 's and re', 'll come ', 'ble. aft', 'ocal ser', 'e fundin', 'cal auth', ' brown. ', 'et their', 'esman da', 'at rises', ' now to ', 'ovide lo', 't cuts t', 'to claim', 'fter bei', 'msed. a ', ' least o', 'ch enabl', 'ocrat co', ' of coun', ', or bot', ' the ass', 'ed yet a', 'where sp', 'crats in', 'councils', 'ils of w', 'ge is ta', 'nd 5% sh', 'o plan f', 'uts in s', ' while p', 'were kep', 'ccept th', 'et again', ' third o', 'o reduce', 'ncils, o', 'nt, whic', 'face inc', 'of counc', 'imited a', 'cludes a', 'ses due ', 'a local ', ' associa', 'rovide l', 'les loca', 'ber of l', ', a dele', 'announce', 'axes wou', 'l be una', ' would m', 'e was co', 'e homes ', 'e able t', 's counci', 'an dai l', 'p down t', 'r gordon', 'ting. he', 'the majo', 'nto doub', 'e to red', 's were m', 'democrat', 'that for', 'ter sue ', 'ere stil', 's could ', 'rebandin', '% she wa', 'l be abl', 'pointing', 'e people', 'able lev', 'the asse', 'delegati', 'glyn dav', 'g of cou', 'low the ', 'will con', 'large nu', 'level of', 'rat coun', 'nt of mo', 'at the m', 'and keep', 'unities ', ' the £3.', 'to set c', 'asury an', 'cent wee', 'set thei', 'ion part', ' set the', 'roblems,', 'welsh li', 'at deal ', '...will ', 'ncerns t', 't a loca', ' their u', 'but this', 's said t', 'ards by ', 'sonable ', 'ood deal', 'in capit', 'and i am', 'don brow', ' include', 'said cou', 'e band a', 'er to cl', 'ill cont', 'cludes t', 'cement s', 'tal expe', 'nt inclu', ' a limit', ', says t', 'ment.fin', 'sive cut', 'e listen', 'doing th', 'aid: i h', \"ru's loc\", ' and its', 'ebanding', 'uation o', ' likely ', 'n davies', 'ervative', 'ga finan', ' change ', 'revaluat', 'ose peop', 'he grant', 'ation (w', 'ng up a ', 'again. t', 'eholds h', 'rant - a', 'cuts to ', 'res and ', 'eir utmo', ' was vit', ' band.th', 'gton, of', 'iness su', 'ouncil l', 'sive hik', 'after th', 'business', 'ably fac', 'e to are', 'ax, mass', 'ith wels', 'of reban', 'ils with', 'nd its l', ' a band.', 'ey are d', 'd see ve', 'es. i ha', 'esman bo', 'ne in th', ' keep do', 't weeks ', 'cussions', 'st to ke', ': wales ', ' set cou', ' create ', 'r being ', 'ile pres', 'y to fac', 'ce counc', 'eaders t', 'ort chan', 'a minimu', 'ussions ', 't - a sc', ' it was ', 'ailable ', 'still li', 'our prob', 'y little', 'a limite', 'y counci', 'the wels', 's. she s', 've hike ', 'reasonab', 't.financ', 'mocrats ', 'ment sai', ' welsh l', 'ister to', 's and th', 'nding in', 'will all', ' plaid c', 'o the re', ' kept to', ' very ve', 'erage fu', 'mr welli', 't to aro', 'ed that ', 'ing give', ' were ke', 'heir tax', 'r sue es', ' had sai', 'i have l', 'oved up ', 'welsh lo', ' on the ', ' and rec', ' be kept', ' now a m', 'e been r', 'people t', 'accept t', 'ions wit', 'es said ', 'eing giv', ' rises d', 'ception.', 'inevitab', 'lga) had', ' in wale', 'ses. i h', 's vital ', 'to provi', 'ep down ', ' changed', 'for the ', 'arge num', 'verage f', 'rs to ma', 'is is a ', 'es may s', ' the ver', ' levels ', 'swer to ', 'ke in co', 'he press', 'ils, or ', 've been ', 'sex said', 'ise in t', 'urces wi', 'gain. th', ' has com', 'nt to he', 'he annou', 'y for th', 'ople who', 'e but th', 'x. it is', 'e labour', 'a good d', 'els of c', 'n additi', 'em to pr', 'a third ', 'elp coun', 'to our p', 'h welsh ', 'ot the a', 'eep rise', 'en re-va', 'nage the', 'tened to', 'ers in w', 'the labo', 'nd and i', 'nment so', 're of th', 'cement h', ' lloyd c', ' leaders', 'kesman g', 'uncils v', 'unced by', ' it is v', 'useholds', 'ding. mr', ' council', 'er the a', 'd on the', 'id: i kn', 'ad said ', 'ncils of', 'given an', 't to hel', ' double ', ' that co', 'ls shoul', 'ssex sai', 'have met', ' - it is', '. this w', ' reasona', 'out coun', ' is ange', 'ga) had ', ' leader ', 'sman gly', 'articula', 'id: this', '4% rise ', 'pin to t', 'ption. h', 'f welsh ', 'ludes th', 'and char', ' to lobb', 'to reduc', 'heir bud', 'ajority ', 'ax. it i', '- a sche', 'sh house', 't of reb', 'a rise i', 'develop ', ' tax. it', 'sociatio', 'oth. mik', 'ds. ms e', 'at signi', ' communi', 're-value', 'e assemb', 'ssembly ', 'o around', 'e unavoi', 'anger. t', 'distribu', ' at reas', ' torfaen', 'ed: arou', 'kesman d', 'ral demo', 'ocrats i', 'that the', 'a band.t', 'people w', 'be able ', 'the pres', ' grant t', 'claims -', 'ance spo', '%, says ', 't that r', 'he was c', ' recent ', 'iculty. ', 'y for in', ' for inc', 'increase', 'le chang', ' years a', 'e about ', 'al that ', ' treasur', 'as vital', 'seholds ', ' utmost ', 'cuts in ', 'unding i', 'n. this ', 'ease. on', 's would ', 'able. af', 'man, lea', 'in counc', 'teep ris', 'band.the', 's after ', 'for futu', 'pital ex', 'and coun', 'al autho', 'x to a m', 'e very v', 'els. the', ' that si', 'ep rises', 'bour ass', ' that on', '.4% rise', ' wlga fi', 'the gran', ' down th', 'of decep', 'olds hav', 'idable. ', 'cil tax.', 't that c', '.2bn set', 'ed ms es', ' local a', 'ill crea', 'hile pre', ' monday,', 'ee homes', 'eir budg', 'ow from ', 'cil tax,', 'very lit', 's to kee', 'able to ', 'have abo', 'ls of wa', ' keep co', 'es incre', 'ill mean', 'ity of c', ' german,', 'embly go', 'ely to f', ' were st', 'ouncils,', 'thoritie', 'ises due', 'till be ', 'h househ', 'now to p', ' will be', 'that we ', 'larly fo', 'ex said ', 'ounced b', 'or counc', 'ace incr', 'd called', 'e who ha', 're minim', 'random r', 'from the', 'e moved ', 'e of the', 'were sti', 'age thei', 'has come', 'been re-', ' tax, pa', 'lor gord', 'r. this ', 'ts in th', 'ent wlga', 's, or bo', 'e revalu', 'a 16.4% ', 'after be', 'by chanc', 'elegatio', 's local ', 'ulty. co', ' both. m', 'ike germ', 'm from t', 'e local ', 'nting. h', ' to are ', 'wn the l', 'd mr wel', ' level. ', 'ion effe', 'f reband', 'to doubl', ' after t', 'e in the', 'x rises.', 'vices in', 'e increa', 'e in cou', 'siness s', 'ai lloyd', 'ers to m', ' a massi', 'e. after', 'ex said:', 'oncerns ', 'res on t', ' opposit', 'aid: thi', 'f the li', ' is not ', 'a scheme', 'is takin', 'met a la', 'age fund', 'nment as', ' said on', 'ed by co', 'y have a', ' or both', 'avoidabl', 'e their ', 'ers and ', 'uncils o', 'th wales', 'll allow', 'german, ', 'ut oppos', 'he busin', 'nance mi', 'eople wh', 'of welsh', ' to set ', 's. in ad', 'man dai ', 'id: wale', ' money h', 'vels of ', ' levels,', 'd: wales', ' he said', ') had sa', 'er to ou', ' concern', 'ssive cu', 'uld see ', 'rises du', 'ave move', 'have bee', 'il taxes', 'allow th', 't and co', 'plan for', ' rates. ', 'iness ra', 'local le', 'l. plaid', ' not the', 'n either', ' moving ', 'ase of 6', 'for loca', 'while pr', 'um. but ', ' the fun', 'l servic', 'usiness ', ' at a lo', 'le level', 'ople to ', 'unding p', 'art of b', 'part of ', 'id counc', 'on parti', 't includ', 'p rises.', 'nced by ', 'er of lo', 'ds by at', 'e hike i', 'y has co', ' mr well', 'ly for t', 'le press', ', £13.4m', 'es and c', 'ts local', 'hinging ', 'ant - a ', ' accept ', 'lloyd ca', 'ays the ', 'cils sho', 'rds by a', 'as come ', 'an eithe', 's will c', 'able but', ': i have', 'iture su', 'oppositi', 'm the bu', 'ilable b', 'level. p', 'tinue to', 'around a', ' due to ', 'ment so ', 'r both. ', 'pport gr', 'ts in se', 'iscussio', ' where s', 'ment inc', 'le to se', 't rises ', 'concerns', ' of wale', 'oing the', '.finance', 's in rec', 'vernment', 'very ver', ' good de', 'eks and ', 'ffect of', 'man said', 'lsh loca', ' to face', 'x, parti', 'ader of ', 'een re-v', 'that ris', ' revalua', 'down the', 'ue essex', ' provide', 'f counci', ' been re', 'future y', 'on (wlga', 'he full ', 'e very l', 'hich ena', 'r servic', 'g pressu', 'anged ye', ' have ab', 'fter the', ' claim t', ' a deleg', 'am aware', 'a large ', 'ayers an', 'authorit', 'w from m', 'ment ass', 'laims - ', 'for thos', 'bn settl', ' rises. ', ' wales a', 'bly, cla', ' see ver', ' parties', 'ich will', 'so often', 'ociation', 'ancellor', '. this i', ' its loc', 'ange is ', 'l of cou', 'cils vis', ' taxes a', 'd counci', 'managed ', 'f wales ', 'r proble', 'local se', 'up a ban', 'd due to', ' have me', 'ly to fa', 'e cuts i', 'it was v', ' signifi', 's, said ', ' hike in', 'uture ye', 'ent asso', 'tributio', 'ident th', ' of loca', 'dgets at', 'tion. he', 'emocrat ', 'the eve ', 'chancell', ' minimum', 'o develo', 'bly face', 'uncil le', 'ces prov', 'nimsed. ', 'sman dai', 'nd a 16.', 'ng. he s', 'es and i', 'ng...wil', 'to the r', ' £7.4m f', '3.2bn se', 'r the mi', 'ed commu', 'an avera', ' called ', ' future ', ' £13.4m ', '-valued ', 'disappoi', 'to reban', 'rities h', ' said re', 'ce incre', 're movin', 'she was ', ' large n', 'still be', 'okesman ', 'edistrib', ' either ', 'rity of ', 'he minis', 'is not w', 'el. plai', ' the rev', 'nt that ', ' uk trea', 'monday, ', 'ttlement', 'ities to', ' additio', ' assembl', 'ocal gov', ' band an', 'ington. ', 'r of the', 'essures ', 'are movi', 'd by cha', 'es shoul', 'ncludes ', 'n, leade', 'eader of', ' the bus', 'nt - a s', 'nables l', 'minimsed', '- it is ', 'ur assem', 'er. this', 'ture sup', 'ns with ', 'ay, a de', ' random ', 'elop the', 'ital exp', 'the view', 'charge r', 'governme', 'ave list', ' moved u', 'know fro', 'h libera', 'ement in', 'inance m', ' a matte', 'holds ha', ' ms esse', 'ge of de', 'cheme wh', '. but op', 'said mr ', 'ces will', 'e added:', 'will be ', 'uncils w', 'jority o', 'd it was', ' to deve', ' he adde', 'being gi', 'have lis', '6%, says', 't counci', 'third of', ' as the ', 'il leade', 'n for th', 'liberal ', 'capital ', 's come a', 'of torfa', 'hat reso', 'taxes at', 'ter bein', 'es were ', 'ted amou', 'ree home', ' three h', 'ster sue', ' but opp', ' are mov', 'alled th', 'n of nor', 'f the pr', 'hat sign', 'g. mr ge', ' tax ris', 'd yet ag', 'may stil', 'nue to r', 's of cou', 'ing up a', 'will cre', 'servativ', ' a local', 'ased fun', 'estic pr', ' claimed', 'der of t', 'tably fa', ' local l', 'ifficult', ' their s', 'f 6%, sa', ' again. ', 'taxes co', 'iation (', 'l that w', 'ly disap', 'f domest', 'ies to k', '. but th', ' come fr', 'ices may', 'h enable', 'e views ', 'ger. thi', ' great d', 'evels of', 'most dep', 't opposi', 'e counci', '. a limi', 'will com', ' up a ba', 'due to r', 'mestic p', 'money ha', ' effect ', ' to our ', 'es the f', ' about c', 'm aware ', 'ect of r', 'deprived', 'gton. it', 'ellingto', 'said whe', 'ies. she', 'be kept ', ' homes w', ' face in', ' disappo', 'y of cou', 'uld set ', 'come fro', 't change', ' finance', 'ey have ', 'n to the', 't of mon', ' recogni', 'ouble fi', 'vel of c', 'ropertie', 'sed fund', 'il tax, ', 'legation', 'here spe', 'ernment ', 'at they ', 'udes the', 'r to cla', 'eep part', 'crease o', 'udgets a', 'ington, ', 's due to', 'ls. the ', 'istribut', 'n. he ad', 'es to de', 'evel. pl', 'n brown.', 'the busi', ' my disc', 'd that o', 'n the le', 'nd counc', ' face co', 'ase. on ', ' the ans', 've met a', 'the sett', ' rise in', 'd a 16.4', 'he said:', '2bn sett', 'rnment.f', 'es on th', 'ess rate', 'it is vi', ' to arou', 'se of 6%', 'ls visit', 'i have m', 'tax rise', 'an steep', 's of loc', 'wales an', 'bob well', 'that sig', 'cils wil', 'ales and', ' of torf', 'cils of ', 'is will ', 'ing of c', 'aged cou', 'w a matt', 'at we st', 'on them ', ' could b', 'ur probl', 'prived c', 't. ms es', '.will cr', 'ces incr', 'arge rea', 'ecognise', 'elsh cou', 't for th', 'in recen', ' the mos', 'unt of m', 'vailable', ' with we', 'ived com', 'changed ', ' keep pa', 'le but t', 's not th', 'lems, sa', 'ent week', 'e majori', 'torfaen,', 'ing...wi', 'evel of ', 'ses. in ', 'ng spin ', 'nment sp', 'fident t', 'aid cymr', 'es on se', 'ton. it ', 'funding ', 'ge reaso', 'average ', ' met a l', 'me from ', 'rces wil', 'tax, par', 'e. on mo', ' and a 1', 'ed. a li', 'ls of co', 'nge is t', ' welsh h', 'er sue e', 'an bob w', 'gnifican', 'nding ri', 'id it wa', 'r for co', 'nd a thi', 'rs that ', 'which wi', 'the rand', 'sappoint', 'es into ', 'n three ', 'atter fo', 'e still ', 'res on s', 'deceptio', 's confid', 'support.', 'icant cu', 'f money ', 'hose peo', 'to face ', 'hange is', 'he £3.2b', 'nday, a ', 'ble to s', 're kept ', ' the ran', 'aking sp', 'ontinue ', 'ax payer', 'n the as', 'rnment s', 've local', 'rom the ', '. the £3', 'ding...w', 'to help ', 'aders to', 'axes cou', 'in the a', 'uncil ta', 'e spokes', 'provided', 'siness r', 'und 5% s', ' payers ', 'xes woul', 'ding inc', ' not whi', 'mean eit', 'hat we s', 'r to our', 'erge of ', ' and kee', 'd accept', 'aders th', 'plaid cy', 'een shor', ' and the', 'i lloyd ', 'y govern', 'nding of', 'eral dem', 'f diffic', 'their ut', ' 5% she ', 'on, of t', 'ignifica', 'mocrat c', 'luation ', 's and ke', 'f busine', 'and acce', 'as confi', ' answer ', 'h counci', 'a band d', 'rt now t', ' of nort', 'ing pres', 't again.', 'l tax pa', 'and and ', ' confide', 'ms essex', 'munities', 'levels o', 'he liber', ' mike ge', 'e suppor', 'rease of', 'uld be k', 'he reval', 'laid cym', 'ed upwar', 'l tax. i', ' of the ', 'n wales ', 'nd keep ', 'e most d', 'grant - ', 'sions wi', 'unavoida', 'andom re', 'n short ', 'ent, whi', 'and due ', 'ave abou', 't of bus', 'he eve o', 'n of dom', 'wales to', 'n recent', ' said th', 'even for', 'yers and', 'id reban', 'welsh ho', 'es provi', 'nservati', 'eased fu', 'ey has c', 'erns the', 'ke germa', ' should ', ' said: w', 'th. mike', 'nevitabl', ' in thre', ' being g', ' glyn da', 'claimed ', 'ngton, o', 'ies have', 'asonable', 'ple who ', 'elsh lib', 'diture s', 'yn davie', 'ay still', ' taking ', 'or the m', ' for fut', 'and the ', 'ion. he ', 'eal of d', \" cymru's\", 'tion, £1', 't we sta', 'ry verge', 'ularly f', ' to redu', ' on mond', 'own the ', 'embly, c', 'uble fig', 'nt so of', 'i know f', 'xes at r', 'round 5%', 'ast one ', 'views of', 'ould mea', \"d cymru'\", 't resour', 'moving u', 'xpenditu', ': i know', 'evels. t', 'n claims', 'n said: ', 'id that ', ' even fo', 'a massiv', 'eases in', 'rth wale', 'aid on t', 'ecent we', 'ent so o', 'ther a m', 'to are m', 'le who h', 'penditur', 'ut the r', 'signific', 'mmunitie', 'elsh hou', ' have li', 'pressure', 'ority of', 'en claim', 'ge numbe', 'ed up a ', 've cuts ', 'ware of ', 'id: i ha', 'ould see', 'resource', 'we start', 'ging as ', 'l level.', 'es would', 'ness sup', 'm my dis', 'inimum. ', 'dom redi', 'rties sa', 'g their ', 'minimum.', 'o help c', 'ocal lev', 'al democ', 'but oppo', 's - it i', 'ikely to', 'tic prop', ' said: t', ' still l', ' tax pay', ' to clai', 'l-manage', 'x rises ', ' majorit', 'the fund', 's to dev', 'd 5% she', 'on the e', ' know fr', 's a rise', 'likely t', 'levels a', 'ened to ', 'ificant ', ' in addi', 'ex to lo', 'rge numb', '5% she w', 'ises. in', 'r assemb', 'aware of', 'weeks an', 'on of do', 'rise in ', 'he welsh', 'x said i', 'said: i ', ' enables', 'd.the se', 'rge reas', 'le. afte', 'ion of n', 'te a gre', 'l author', 'at one i', 'ry littl', 'ort gran', 's. the w', 'ies in r', 'a great ', 'includes', 'rs and r', ' of dome', 'will mea', 'd to the', 'verge of', 'nise the', 'of the l', 'vide loc', ' scheme ', 'hich wil', 'ervices ', 'omestic ', 'ssive hi', ' of wels', 'ter the ', 'heir ser', 'to manag', 'ns they ', 'apital e', 'iews of ', ', said m', 'ease of ', 'nable le', 'ution ef', 'lington,', 'ent spok', 'tter for', 'nt said ', 'he settl', 'at least', 'd funds.', 'ned to t', ' band du', 'l of dif', 'g given ', 'funds. m', 'ten clai', 'es in re', 's increa', 'gets at ', 'imsed. a', 'with wel', 't wlga f', 'ent said', ', even f', 'n, of to', 'limited ', 'horities', ' a rise ', 'associat', 'ales sho', ' and cou', 'not whin', '.4m will', 'ems, sai', 'e which ', 'und a th', 'be unavo', 'deal for', ' weeks a', ' particu', 'r utmost', 'ge fundi', 'aid it w', 'ouncils ', 'addition', 'ept that', 'an said:', 'ources w', 'ys the a', ' support', 's should', ' the eve', ' re-valu', 'is vital', 'f the an', 'r taxes ', 'not the ', 'homes we', 'is is no', 'ure year', ' of reba', 'are doin', 'is now a', 'g as the', 'pt that ', 'their bu', ' said: i', 'rant to ', 'er of th', 'rovided ', ' this is', 'les coun', 'llow the', 'said: th', 'ement wl', 'rities t', 'n, £13.4', 'ernment,', 'ng incre', 'ures on ', 'ommuniti', 'recent w', 's the la', ' wales t', 'majority', 'ing as t', 'ax to a ', 'nd i am ', 'dai lloy', 'd the co', 'was vita', 'moved up', '..will c', 'reat dea', 'ill come', 'lga fina', 'h will a', 'assive c', 'aid: i k', 'ept to a', 'e full £', 'ils will', 'e in thr', 's the as', 'd: this ', 'set coun', 'a) had s', 'nswer to', 'ressures', 'iberal d', 'mbly gov', ' said it', 'vices an', ' difficu', ' allow t', 'sury ann', 'l taxes ', 'of busin', '.4m from', 'e said: ', 'lsh hous', 'ven for ', 'this is ', ' limited', 'fect of ', 'e while ', 'o manage', 'ister su', 'ry annou', 'with the', 'on effec', 'ed by ch', 'nd recog', 'ocal aut', 'settleme', 'he added', 'blems, s', 'n servic', ' who hav', 'er a mas', 'ties in ', ' is a go', 'ng their', 'tion (wl', 'ome avai', 'his is n', 'e availa', 'e in cap', 's were s', 'most to ', 'said tha', 'vels. th', ' wales c', ' says th', ' be able', 'o face c', 'se in th', 'ced by c', 'of the a', 'rnment. ', ' deal fo', ' reduce ', ' will me', 'he uk tr', 'l govern', 'ncils vi', ' will al', ' they ar', 'nd.the s', 't the an', ' level o', 'ises. i ', ' short c', 'ousehold', ' figures', 's on ser', 'rvices m', 'his will', 'ill be a', '. in add', ' an aver', 'e said c', 'communit', 'east one', ' busines', 'le figur', 'ept at r', 'cept tha', ' davies ', 'egation ', 'l tax, p', 'cal leve', 'inimsed.', 'isited m', 'ssures o', 'o our pr', 'ted ms e', 'the well', 'beral de', 'ddition,', ' manage ', 'r a mass', 'ic prope', 's they h', 'me which', 'e figure', 'harge re', '. mr ger', 'hem to p', ' i know ', 'reases i', 'e announ', 'nment.fi', 'et a lar', 'm that t', ' and ine', 'x to lob', 'answer t', ' lobby f', 'en short', 'least on', ', of tor', ' redistr', 'd amount', 'o keep p', 't the ma', 'es could', 'd set th', 'ncement ', ': around', 'y. conse', 'davies s', 'tle chan', ' is vita', 'p a band', 'wards by', ' their b', 'he labou', '3.4m wil', 'eve of t', ' delegat', 'an glyn ', 're suppo', '. it is ', 'r counci', '. he sai', 'ncil tax', ' 16.4% r', ' those p', 'onday, a', 'ticularl', 'change i', 'id where', 'ide loca', 'day, a d', 'evels, e', 'he level', 'difficul', 'ould set', 'r budget', ' rebandi', 'aims - i', 'voidable', 're doing', 'aid wher', 'icularly', ' charge ', 'ties hav', 'es will ', ' i am aw', 'ssures a', 'who have', 'rt. ms e', 'ax rises', 'n for fu', 'nger. th', 'ts to se', 'd up a b', 'assembly', 'scussion', ' into do', 't this i', 'ere spen', 'd of wel', 'steep ri', ' to the ', 'ften cla', 'called t', 'rfaen, s', 'm redist', 'cal gove', 'f north ', 'rt of bu', 'm. but t', 'heme whi', 'nt wlga ', 'double f', 'uncement', 'e level ', 'essex sa', 'ble leve', 'it was a', 'g...will', 'is not t', 's rates.', 'pokesman', 'ews of l', ' we star', 'inister ', 'due to t', 'er being', 'payers a', 's a good', 'labour a', 'alued up', 'esources', 'ms - it ', ' which e', 'rd of we', ' little ', 'ere kept', 'he views', 'short ch', 'they hav', 'crease. ', 'ave met ', 'en, said', 'd where ', 'or both.', 'e to set', 'position', 'massive ', 'tion of ', 'vitably ', 'ative lo', 'rvices p', 'or those', 'il tax r', 'to the v', 'ing thei', 'mum. but', 'ition, £', 'wer to o', ' they ha', ' mr germ', ' announc', ' steep r', 'inging a', 'vative l', ' one in ', 'anaged c', ' be unav', 'rnment a', 'yd calle', 'ge their', 'lued upw', 'eat deal', ' essex t', ' mean st', 'th the m', 'eople to', 'n glyn d', 's into d', ' whingin', 'the mini', 'et counc', ' of 6%, ', ' - a sch', \"ymru's l\", 'yet agai', 'ive cuts', 'll creat', 't was a ', 'rticular', 'rt chang', ' that th', 'udes a r', 'uk treas', 'y still ', 'p counci', 'ell-mana', ' the ful', 'naged co', 'ales to ', 'ities an', 'ovided b', ' tax to ', 'kept to ', 'ncil lea', ' conserv', 'ables lo', 'claim th', 'on of no', 'e a grea', 'mber of ', 'e random', 'ill allo', ' democra', 'ited amo', 'yers in ', 'es a ris', ' help co', 'appointi', 'particul', 'stened t', 'llington', 'the reva', 'y, a del', 'ce minis', 'e said w', '16.4% ri', ' to plan', 'keep cou', '. the we', ' but thi', 'or local', 'ices inc', 'ises wer', 't whingi', 'and inev', 'nt. the ', 'as the l', 'o provid', 'n monday', 'nding pr', 'keep par', ' chancel', ' is now ', 'wlga fin', 'nged yet', 'band due', 'mike ger', 'on monda', '. on mon', 'faen, sa', 'g up a b', 'man bob ', 'dable. a', 'onservat', 'both. mi', 's and i ', 'ing. he ', 'ment. th', 'y announ', 't grant ', 'ices and', ' liberal', 'spin to ', 'o the ve', 'uthoriti', ' the ann', 'levels. ', 'r the an', 'ney has ', 'or futur', ' the pre', 'upport. ', 'lp counc', 'ed funds', 'ats in t', 'nds. ms ', 'our asse', ' the vie', 'en an av', ' to mana', ' given a', 'ued upwa', 'e kept a', 'cement w', 'ng. mr g', 'little c', ' that fo', ' tax, ma', 'ither a ', ' vital t', 'ing. mr ', 'reasury ', 'continue', 'ise the ', 'listened', 'or gordo', 'he said ', 'hat for ', 'ain. thi', ' have be', 'bby for ', 'y verge ', 's at a l', ' after b', 'was conf', 'properti', 'ales cou', 'tax, mas', ' still b', 'cal serv', 'wales sh', 'their ta', ' to reba', 'rvative ', 'aluation', 'ss rates', 'ng press', 'inting. ', 'were min', 'bly gove', 'lyn davi', 'n re-val', 'rge of d', 'duce whi', 'heir utm', '. conser', 's by at ', 'eep down', 'on, £13.', 'overnmen', 'les shou', 'treasury', 'es at re', ' she was', 'but the ', 'ding pre', 'ut this ', ' capital', 'cant cut', 'nce mini', ' by coun', 'rly for ', 'pt at re', 'ound 5% ', 'eme whic', 'cils, or', 'council ', 'o set co', 'n, said ', ' to a mi', 're years', 't one ba', 'ws of lo', 'ould be ', 'o reband', 'support ', 'aid mr w', 'german s', 'said reb', 's have b', 'are of t', ' it is a', 'd mean s', ', massiv', 'hould se', 'hanged y', 'w the we', 'of wales', ' in coun', 'ir servi', 'y, claim', ' the maj', 'lds have', 'evelop t', ' the gra', 's now a ', 'tax. it ', 'onable l', 'om the u', ' in serv', 'nment an', 'mount of', 'lop thei', 'e doing ', 'ty. cons', 'those pe', 'abour as', ' cuts to', 'uncils, ', 'ding ris', 'would me', 'essex to', 'lled the', ' doing t', 'and a 16', 'vices ma', 'arly for', 'tive loc', 'n averag', 'cellor g', 'perties.', 'e levels', 'laimed t', 'them to ', 'e kept t', 'into dou', 'o often ', 'e reason', 'he assem', 'm to pro', 'imed tha', 'of money', 'could be', 'ost to k', 're spend', ' 6%, say', 's on the', 'mes were', 'd be kep', 't they a', 'l create', ', claime', 'ere mini', 'om the b', 'od deal ', 'n. but o', ' essex s', 'ter to c', 'cil taxe', ' most de', ' levels.', 'banding ', 'from my ', 'levels, ', '£3.2bn s', 'ncreases', 'd ms ess', 'ncreased', 'ment and', 'inue to ', 'ibution ', 'ment, wh', 'obby for', 'port gra', 'vided by', 'e £3.2bn', 'number o', 'eception', 's, even ', 'en for t', 'ird of w', 'ment hug', ' was con', 'w to pla', 'by counc', 'ace coun', 'in to th', 'ct of re', 'on brown', 'ities in', 'aid reba', 'l come f', 'the answ', ' added: ', '£7.4m fr', ' may sti', 'll be un', 'g. he sa', 'payers i', 'full £7.', 'n dai ll', 'tion eff', 'reased f', 't was vi', 'bution e', 'face cou', 'ncrease.', 'arties s', 'r those ', 'axes at ', 's in wal', 'e german', 'o a mini', 'easury a', 'im that ', 'tmost to', 'm the uk', 'port. ms', 'e-valued', 'oidable.', 'ir budge', ' matter ', 'wlga) ha', 'educe wh', 'ise in c', ' very li', ' this wi', 'de local', 'les to d', 'he very ', 'ellor go', 'se peopl', 'nnouncem', 'rises we', 'al servi', 't least ', ' spokesm', 'velop th', 'loyd cal', 'nd charg', 'of domes', 'they are', 'matter f', 'sited ms', 'es. in a', 'leader o', 'n the ev', 'des the ', ' that re', 'keep dow', 'x, massi', ' one ban', 'hat rise', ', said i', 'budgets ', 'the conc', 'rities i', 'e grant ', 'r increa', 'in three', 'e change', 'the very', 'was a go', 'ue to th', ' plan fo', ' was a g', 'orities ', 'oblems, ', 'e concer', 'ers that', ' budgets', 'oyd call', ' german ', 'ean eith', 'enditure', 'r future', 'eal for ', ' of dece', 'aid that', 'lty. con', 'uld mean', 'should s', 'ment spo', 'ment wlg', 'g spin t', 'id cymru', 'scheme w', 'kesman b', 'ive hike', '13.4m wi', 'hort cha', ' of mone', 'sources ', 'e met a ', 'creases ', 'vices pr', 'nt.finan', ' kept at', 'o are mo', 'e been s', 'to a min', 'l £7.4m ', 'ount of ', ' ministe', 'y disapp', 'dent tha', 'ton, of ', 'anage th', 'ch will ', 'ee very ', 'now a ma', 'e essex ', 'd the an', 'nounced ', 'ims - it', 'l tax to', 'd inevit', 'd keep d', 'ster to ', 'ies and ', 's and it', 'ses into', 'il tax p', 'ving up ', 'that cou', ' well-ma', 'ly, clai', 't at rea', 'ent. the', 'ayers in', 'upwards ', '(wlga) h', 'ive loca', 'tart now', 'e libera', 'valuatio', ' and cha', '.the set', 'll mean ', 'a delega', 'whinging', 'kept at ', 'nd accep', 'ill like', ' bob wel', 'aim that', ' am awar', 'ls, even', 'd i am a', 'for incr', 'es counc', 'h the mo', 'ance min', 'e busine', 'nding...', 'ion, £13', '. plaid ', 'rown. bu', 'rage fun', 'pport. m', 's suppor', 'ders tha', ' spendin', ' (wlga) ', ', partic', ' labour ', 's will b', 'spending', 'th welsh', 'n effect', 'nment, w', 's were k', 'ures and', 'rs in wa', 'elsh loc', 'd. a lim', 'ded: aro', ' at leas', 'aen, sai', 'ld mean ', 'onfident', 's and ch', ' spin to', 't a larg', 'help cou', 'ement sa', 'ent huge', 't reason', ' were mi', 'y are do', 'north wa', 'rom my d', 'p part o', 'the uk t', ' dai llo', 'well-man', 'ppointin', 'ates. sh', 'my discu', 'lobby fo', 'nt cuts ', 'creased ', 'n them t', 'ow a mat', 'dition, ', 'd: i kno', 'ils shou', ' problem', ' the con', 'eate a g', 's that t', 'es and a', \"u's loca\", 's at rea', 'been sho', 'ort. ms ', 'n counci', 's provid', 'he rando', 'lington.', 'es and k', ' of diff', 'ne band ', 't one in', 'the anno', ' in rece', 'hike in ', 'umber of', 'anding. ', 'stic pro', 'd and in', 'ppositio', ' from my', 'ing spin', 'ited ms ', 'to keep ', '-managed', 't is now', 'wales co', 'ls with ', ' taxes w', 'ill be u', 'ks and i', 'd that s', 'man glyn', 'ties sai', 's will m', 'ty of co', 'availabl', 'about co', 'istened ', 'o servic', 't is ang', 'ettlemen', ' a band ', 'ttle cha', 'nificant', ' but the', 'uncils s', 'ties and', 'g rises ', 'op their', 'its loca', 'ost depr', 'es. she ', 'navoidab', ' to serv', 'e welsh ', 'vel. pla', 'hugely d', 'assive h', 't to kee', 'the full', 'laim tha', 'ncrease ', '. he add', '£13.4m w', 'tal that', 'oney has', 'anding..', ' anger. ', 'recognis', 'id on th', 'll be ab', ' develop', 'x said: ', 't hugely', 'l contin', 'sed. a l', 'ntinue t', 'ed counc', 'ep counc', 'cil tax ', 'band and', ' verge o', 'ull £7.4', '4m will ', 's and ac', ' deprive', 'e eve of', 'often cl', ' welling', 'pwards b', ' local s', 'the leve', 'n an ave', '. mike g', 'fficulty', 'a financ', 'mited am', 'e from t', ' around ', 'hat coun', 'xes coul', 'd that f', 'sures an', ' part of', 'bles loc', 'mean ste', 'e minist', 'upport g', ' hugely ', 'vital th', 'des a ri', 'ly face ', 'es local', ' sue ess', 'e years ', 'e number', 'r of loc', ' full £7', 'ld be ke', 'welsh co', 'e spendi', 'in. this', 'ing incr', 'eprived ', 'rns they', 'on. it i', 'e answer', 'sex to l', 'ficant c', 'ludes a ', 'nding. m', 'ders to ', 'nce spok', 'avies sa', ' north w', 'ces may ', 'hat the ', 'ncils sh', ' said wh', 'o lobby ', 'd recogn', 'il tax. ', 'erties. ', 'hat one ', 'al gover', 'ess supp', 'sition p', 's and a ', 'sue esse', 'problems', 'ged yet ', 'tlement ', 'lan for ', '6.4% ris', ' wales s', 'ms, said', 'm will c', 'ion (wlg', 'local go', '% rise i', 's. ms es', 'e of dec', 'ly gover', ' with th', 'om my di', 'a matter', 'osition ', 'pt to ar', 'n (wlga)', 'ob welli', 'art now ', 'gnise th', 'ent and ', 'p their ', 'orfaen, ', 'x payers', 'nditure ', 'as a goo', 'med that', ' said co', 'nt and c', ' that ri', 'he conce', 'said on ', 'discussi', 'come ava', 'vies sai', 'evaluati', 'rdon bro', 'aimed th', 's may st', 'rease. o', 'ssembly,', '. ms ess', 'd its lo', 'nister t', ' a schem', ' she sai', ' are doi', 'tes. she', ' them to', 's in ser', 's visite', 'rt grant', 'ent incl', 'bout cou', ' on them', ' in the ', ' to help', ' a third', 'to aroun', 'k treasu', 's taking', ' governm', 'il tax t', 'banding.', 'o have m', 'around 5', 'ness rat', ' i have ', 'of north', 'rvices a', 'tax paye', 'ncellor ', 'ls, or b', 'ved comm', 'finance ', 'services', 'ng as th', 'the £3.2', ' that we', 's anger.', 'ave been', 'se in ca', ' eve of ', 'cognise ', 'ets at a', 've moved', 'start no', 'good dea', ' claims ', 'n. it is'}\n"
          ]
        }
      ]
    },
    {
      "cell_type": "markdown",
      "source": [
        "### **Task 2. CompareSets function**\n",
        "A class CompareSets computes the Jaccard similarity of two sets of integers – two sets of hashed shingles."
      ],
      "metadata": {
        "id": "_ran18wwoM_Y"
      }
    },
    {
      "cell_type": "markdown",
      "source": [
        "#### 2.1 For two Sets \n",
        "This is a efficient implementation for comapring two sets of shingles. "
      ],
      "metadata": {
        "id": "9RamYOFLYTEL"
      }
    },
    {
      "cell_type": "code",
      "source": [
        "def CompareSets(set1, set2):\n",
        "    list1 = list(set1)\n",
        "    list2 = list(set2)\n",
        "    intersection = len(list(set(list1).intersection(list2)))\n",
        "    union = (len(list1) + len(list2)) - intersection\n",
        "    similarity = float(intersection) / union\n",
        "    return similarity\n",
        "\n",
        "# Example\n",
        "similarity = CompareSets(shinglesDoc1, shinglesDoc2)"
      ],
      "metadata": {
        "id": "GYjg38Vd66kM"
      },
      "execution_count": 6,
      "outputs": []
    },
    {
      "cell_type": "code",
      "source": [
        "%%time\n",
        "print(CompareSets(shinglesDoc1, shinglesDoc2))"
      ],
      "metadata": {
        "colab": {
          "base_uri": "https://localhost:8080/"
        },
        "id": "R2n2qjOlfhnc",
        "outputId": "e92da818-4ccd-4d0d-c9c4-b664f474db20"
      },
      "execution_count": null,
      "outputs": [
        {
          "output_type": "stream",
          "name": "stdout",
          "text": [
            "0.014418329053920601\n",
            "CPU times: user 3.93 ms, sys: 0 ns, total: 3.93 ms\n",
            "Wall time: 11.1 ms\n"
          ]
        }
      ]
    },
    {
      "cell_type": "markdown",
      "source": [
        "#### 2.2 With Characteristic Matrix\n",
        "\n",
        "Note the task does not require these steps, although they are helpfull to fully understand the concepts discussed in the lecture. With increased docs, the matrix becomes more sparse. Resulting in lower performances. \n",
        "\n",
        "1. Create Charactersitc Matrix\n",
        "2. Apply JacSimilarity on two columns (2 docs) **Text fett markieren**"
      ],
      "metadata": {
        "id": "_WpFvIE4UWc7"
      }
    },
    {
      "cell_type": "code",
      "source": [
        "\n",
        "\"\"\"\n",
        "Visualize a collection of sets as a characteristic matrix\n",
        "Rows correspond to elements (shingles) of the universal set.\n",
        "Columns correspond to sets (documents)\n",
        "p. 24 \n",
        "\"\"\"\n",
        "\n",
        "def createCharacteristicMatrix(docs):\n",
        "  sMatrix = pd.DataFrame([],columns=[\"shingle\"])\n",
        "  for idx, i in enumerate(docs):\n",
        "    sh = shingling(txt=i)\n",
        "    hsh = pd.DataFrame(toHash(sh),columns=[\"shingle\"])\n",
        "    bol_vals = pd.DataFrame([1 for idx in range(len(hsh))], columns=[\"s\"+str(idx)])\n",
        "    sRow = pd.concat((hsh, bol_vals), axis=1)\n",
        "    sMatrix = pd.merge(sMatrix, sRow, on='shingle', how='outer').fillna(0)\n",
        "  return sMatrix\n",
        "\n",
        "\"\"\"\n",
        "1 1 a 1 in both columns\n",
        "1 0 b columns are different\n",
        "0 1 c\n",
        "0 0 d 0 in both columns\n",
        "Denote,  \n",
        "A = the number of rows of type a; \n",
        "B = the number of rows of type b, etc.\n",
        "Sim (C1, C2) = A /(A +B +C).\n",
        "p.26\n",
        "\"\"\"\n",
        "\n",
        "# row 0 is the shingle \n",
        "def calculateSimJac(charMatrix,docCol1=1, docCol2=2, p=True): \n",
        "  a=0; b=0; c=0; \n",
        "  for i in charMatrix.iterrows():\n",
        "    # i[0] --> rowNumber; i[0][0] --> Shingle Number; i[0][1] --> first document \n",
        "    dc0 = i[1][docCol1]; dc1 = i[1][docCol2]\n",
        "    if dc0 == 1 and dc1 == 1: a+=1\n",
        "    elif dc0 != dc1 and dc0 == 1 or dc1 == 1 : b+=1\n",
        "    else: c += 1 \n",
        "  if p : print(f\"A:B:C -> {a,b,c}, Sum of A+B+C -> {a+b+c}, CheckLen of Matrix -> {len(charMatrix)}\")\n",
        "  jacSim = a / (a+b+c*0)\n",
        "  return jacSim\n",
        "\n",
        "\n",
        "print(df.text[0:10])\n",
        "cM = createCharacteristicMatrix(df.text[0:10])\n",
        "print(cM)\n",
        "jacSim = calculateSimJac(cM,1,3)\n",
        "print(\"jacSimiliarity:\", jacSim)\n",
        "\n"
      ],
      "metadata": {
        "colab": {
          "base_uri": "https://localhost:8080/"
        },
        "id": "eUilcutyA5TU",
        "outputId": "7c31c736-5653-4c8e-8782-144f1941781c"
      },
      "execution_count": 7,
      "outputs": [
        {
          "output_type": "stream",
          "name": "stdout",
          "text": [
            "0    welsh councils should set their taxes at reaso...\n",
            "1    former labour leader neil kinnock has official...\n",
            "2    the tories failed to hold onto power in 1974 a...\n",
            "3    gordon brown is to freeze petrol duty increase...\n",
            "4    hundreds of ballot papers for the regional ass...\n",
            "5    billions of pounds spent on conflict in iraq a...\n",
            "6    the leader of the british national party has b...\n",
            "7    it's become commonplace to argue that blair an...\n",
            "8    ken livingstone should stick to his guns and n...\n",
            "9    tony blair's feud with gordon brown is damagin...\n",
            "Name: text, dtype: object\n",
            "          shingle   s0   s1   s2   s3   s4   s5   s6   s7   s8   s9\n",
            "0      1153712461  1.0  0.0  0.0  0.0  0.0  0.0  0.0  0.0  0.0  0.0\n",
            "1      1925331429  1.0  0.0  0.0  0.0  0.0  0.0  0.0  0.0  0.0  0.0\n",
            "2      3779788561  1.0  0.0  1.0  0.0  1.0  0.0  0.0  0.0  0.0  1.0\n",
            "3      1664649880  1.0  0.0  0.0  0.0  0.0  0.0  0.0  0.0  0.0  0.0\n",
            "4      3389403929  1.0  1.0  0.0  0.0  1.0  0.0  0.0  0.0  1.0  0.0\n",
            "...           ...  ...  ...  ...  ...  ...  ...  ...  ...  ...  ...\n",
            "13566  1158008340  0.0  0.0  0.0  0.0  0.0  0.0  0.0  0.0  0.0  1.0\n",
            "13567  2694608980  0.0  0.0  0.0  0.0  0.0  0.0  0.0  0.0  0.0  1.0\n",
            "13568  1163455603  0.0  0.0  0.0  0.0  0.0  0.0  0.0  0.0  0.0  1.0\n",
            "13569   650915893  0.0  0.0  0.0  0.0  0.0  0.0  0.0  0.0  0.0  1.0\n",
            "13570  2895695834  0.0  0.0  0.0  0.0  0.0  0.0  0.0  0.0  0.0  1.0\n",
            "\n",
            "[13571 rows x 11 columns]\n",
            "A:B:C -> (416, 3725, 9430), Sum of A+B+C -> 13571, CheckLen of Matrix -> 13571\n",
            "jacSimiliarity: 0.10045882637044193\n"
          ]
        }
      ]
    },
    {
      "cell_type": "code",
      "source": [
        "text1 =  \"this is a test to understand better what we are doing! yippie!\"\n",
        "text2 =  \"this is a test to understand better what we are doing! yippie!\"\n",
        "text3 =  \"this is a test to not forget  what we are doing! yippie! Same but different\"\n",
        "\n",
        "\n",
        "test_mat =  pd.DataFrame([text1,text2,text3], columns=[\"text\"])\n",
        "#print(test_mat.text)\n",
        "cM_test_1 = createCharacteristicMatrix(test_mat.text)\n",
        "print(cM_test_1)\n",
        "jacSim_test_1 = calculateSimJac(cM_test_1,1,2)\n",
        "jacSim_test_2 = calculateSimJac(cM_test_1,1,3)\n",
        "print(\"jacSimiliarity:\", jacSim_test_1, \"and\", jacSim_test_2)\n"
      ],
      "metadata": {
        "colab": {
          "base_uri": "https://localhost:8080/"
        },
        "id": "sPqLqVYUGgs7",
        "outputId": "048a8a8c-1400-4c1e-eb73-31c016f288da"
      },
      "execution_count": 8,
      "outputs": [
        {
          "output_type": "stream",
          "name": "stdout",
          "text": [
            "       shingle   s0   s1   s2\n",
            "0    840883218  1.0  1.0  1.0\n",
            "1   3769731328  1.0  1.0  1.0\n",
            "2   2666131820  1.0  1.0  0.0\n",
            "3   2793112504  1.0  1.0  1.0\n",
            "4    123783608  1.0  1.0  1.0\n",
            "..         ...  ...  ...  ...\n",
            "86  4021045262  0.0  0.0  1.0\n",
            "87  2059753855  0.0  0.0  1.0\n",
            "88  3541609251  0.0  0.0  1.0\n",
            "89  2698009159  0.0  0.0  1.0\n",
            "90  3834743206  0.0  0.0  1.0\n",
            "\n",
            "[91 rows x 4 columns]\n",
            "A:B:C -> (57, 0, 34), Sum of A+B+C -> 91, CheckLen of Matrix -> 91\n",
            "A:B:C -> (36, 55, 0), Sum of A+B+C -> 91, CheckLen of Matrix -> 91\n",
            "jacSimiliarity: 1.0 and 0.3956043956043956\n"
          ]
        }
      ]
    },
    {
      "cell_type": "markdown",
      "source": [
        "### **Task3. Minhashing**\n",
        "A class MinHashing that builds a minHash signature (in the form of a vector or a set) of a given length n from a given set of integers (a set of hashed shingles)."
      ],
      "metadata": {
        "id": "kmPXLIItUASh"
      }
    },
    {
      "cell_type": "markdown",
      "source": [
        "#### 3.2 HashSignature with Permutation"
      ],
      "metadata": {
        "id": "mH0kSkjNXL_X"
      }
    },
    {
      "cell_type": "code",
      "source": [
        "%%time\n",
        "def createPermSignVect(index,vec): \n",
        "  for e in zip(index,vec): \n",
        "    if e[1] == 1: return e[0] \n",
        "\n",
        "\n",
        "def signMatrixPermutations(charMatrix, permutations, createVec): \n",
        "  assert permutations > 0\n",
        "  signMatrix = pd.DataFrame(columns=charMatrix.columns[1:]) \n",
        "  for _ in range(permutations): \n",
        "    #permutate all rows.  \n",
        "    shuffled = charMatrix.sample(frac=1)\n",
        "    ll = list();\n",
        "    for e in shuffled.columns[1:]:\n",
        "      ll.append(createVec(shuffled.index,shuffled[e])) \n",
        "    signMatrix.loc[len(signMatrix)] = ll\n",
        "  return signMatrix\n",
        "    \n",
        "\n",
        "#createPermSignVect(cM.index,cM[\"s0\"])\n",
        "signMatPer = signMatrixPermutations(cM,100,createPermSignVect) \n",
        "print(signMatPer)"
      ],
      "metadata": {
        "colab": {
          "base_uri": "https://localhost:8080/"
        },
        "id": "TRSHe0QLN1Po",
        "outputId": "e64d82c7-3676-4c85-a862-b98a2126b909"
      },
      "execution_count": 9,
      "outputs": [
        {
          "output_type": "stream",
          "name": "stdout",
          "text": [
            "      s0    s1    s2    s3    s4    s5    s6     s7     s8     s9\n",
            "0   1214  2705  4560  5942  7935  8584  9560  10935  12380  13235\n",
            "1   1170  2486  4928  3708  7870  4657  7870  10660  12129  12646\n",
            "2   1764  1079  4792  2219  8075  4445  4445   1764   2219  13418\n",
            "3   1204  2443  4178  6303  8101  8465  2443  10477   3236  13307\n",
            "4   2069   730  5047  5553  4886  5047   730   5047  11914  11914\n",
            "..   ...   ...   ...   ...   ...   ...   ...    ...    ...    ...\n",
            "95  1471  3669  4266  6515  4600  8589  9591  11554  11898  13214\n",
            "96  2148  2577  5457  5585  7977  9140  8166  10246   2148  12876\n",
            "97   948  2598  4979  6648  7685  1954  9393   9892   5238  12828\n",
            "98  1897  2965  3853  1897  7431  8283  9191   9868  11857   3183\n",
            "99   197  3594  5522  7057  7600  3594  9386   3594  11657   3594\n",
            "\n",
            "[100 rows x 10 columns]\n",
            "CPU times: user 570 ms, sys: 0 ns, total: 570 ms\n",
            "Wall time: 708 ms\n"
          ]
        }
      ]
    },
    {
      "cell_type": "markdown",
      "source": [
        "####  MinHashing with Hashfunctions"
      ],
      "metadata": {
        "id": "7WQ-jO8tbYUJ"
      }
    },
    {
      "cell_type": "markdown",
      "source": [
        "from: https://mccormickml.com/2015/06/12/minhash-tutorial-with-python-code/ <br/>\n",
        "So here’s how you compute the MinHash signature for a \n",
        "given document. Generate, say, 10 random hash functions. Take the first hash function,\n",
        "and apply it to all of the shingle values in a document. Find the minimum hash value produced (hey, “minimum hash”, that’s the name of the algorithm!) \n",
        "and use it as the first component of the MinHash signature. Now take the second hash function, and again find the minimum resulting hash value, \n",
        "and use this as the second component. And so on.\n"
      ],
      "metadata": {
        "id": "idxhVXfFyROQ"
      }
    },
    {
      "cell_type": "code",
      "source": [
        "\n",
        "''' \n",
        "Take k (e.g., k = 100) independent hash functions, e.g., \n",
        "h(x) = (ax + b) % c\n",
        "'''\n",
        "#Create Hashfunctions\n",
        "def createMinHashCoeff(amount,coeff = list()): \n",
        "\n",
        "  # own values = a = random.randint(1,100000); b = random.randint(1,100000); c =  sympy.randprime(2,97)\n",
        "  # according to: https://mccormickml.com/2015/06/12/minhash-tutorial-with-python-code/\n",
        "  maxShingleID = 2**32-1\n",
        "  # http://compoasso.free.fr/primelistweb/page/prime/liste_online_en.php\n",
        "  nextPrime = 13570    #4294967311 next higher prime of 2**32-1 \n",
        "                       #13570 shingles we have in nine docuemtns\n",
        "\n",
        "  assert amount > 0 \n",
        "  arr = []\n",
        "  for _ in range(amount): \n",
        "    #a = random.randint(1,100000); b = random.randint(1,100000); c =  sympy.randprime(2,97)\n",
        "    a = random.randint(1, maxShingleID); b = random.randint(1,maxShingleID); c = nextPrime\n",
        "    arr.append((a,b,c))\n",
        "  cf = set(arr)   \n",
        "  return cf if len(cf) == amount else createMinHashCoeff(amount)\n",
        "\n"
      ],
      "metadata": {
        "id": "S4jUf2HLXYA4"
      },
      "execution_count": 10,
      "outputs": []
    },
    {
      "cell_type": "code",
      "source": [
        "''' \n",
        "Take k (e.g., k = 100) independent hash functions, e.g., \n",
        "h(x) = (ax + b) % c\n",
        "'''\n",
        "\n",
        "### For a single Row \n",
        "\"\"\"\n",
        "What you do is hash each element of A and each element of B, and look at the minimum hash value of each set. \n",
        "As it turns out, the probability of these two hashes being equal is exactly the Jaccard similarity of the two sets. Wow -- that is elegant!\n",
        "http://web.eecs.utk.edu/~jplank/plank/classes/cs494/494/notes/Min-Hash/index.html\n",
        "\"\"\"\n",
        "def createMinHashRow(hashedShingle,col,index,coeffList):\n",
        "  hcol = []\n",
        "  for coeffs in coeffList: \n",
        "    min_val = math.inf; min_pos = math.inf #  i have seen implementations using min_val and min_pos -> i guess its the same in the end? Yes. Scores for testing reamined the same. \n",
        "    for i in zip(hashedShingle,col,index):\n",
        "      if i[1] == 1: \n",
        "        #(ax + b) % c\n",
        "        h = (int(coeffs[0])*int(i[0]) + int(coeffs[1])) % int(coeffs[2])  \n",
        "        if min_val > h:\n",
        "          min_val = h \n",
        "          min_pos = i[2] \n",
        "    #print(min_val)\n",
        "    hcol.append(min_pos) # we are using the position of min_val instead of the actual min_val? \n",
        "  return hcol\n",
        "\n",
        "\n",
        "# Function for just a single row \n",
        "''' \n",
        "mHsCol = createMinHashRow(cM[\"shingle\"].values,cM[\"s0\"].values,cM.index, coeffs)\n",
        "mHsCol1 = createMinHashRow(cM[\"shingle\"].values,cM[\"s1\"].values,cM.index, coeffs)\n",
        "# with own randomly set coefficients\n",
        "#[0,0,0,0] \n",
        "#[0,0,0,0]\n",
        "#\n",
        "print(mHsCol) \n",
        "'''"
      ],
      "metadata": {
        "colab": {
          "base_uri": "https://localhost:8080/",
          "height": 52
        },
        "id": "kiaKGjuknMxV",
        "outputId": "2eb7629f-2171-406f-9de9-24887d6bf41e"
      },
      "execution_count": 11,
      "outputs": [
        {
          "output_type": "execute_result",
          "data": {
            "text/plain": [
              "' \\nmHsCol = createMinHashRow(cM[\"shingle\"].values,cM[\"s0\"].values,cM.index, coeffs)\\nmHsCol1 = createMinHashRow(cM[\"shingle\"].values,cM[\"s1\"].values,cM.index, coeffs)\\n# with own randomly set coefficients\\n#[0,0,0,0] \\n#[0,0,0,0]\\n#\\nprint(mHsCol) \\n'"
            ],
            "application/vnd.google.colaboratory.intrinsic+json": {
              "type": "string"
            }
          },
          "metadata": {},
          "execution_count": 11
        }
      ]
    },
    {
      "cell_type": "code",
      "source": [
        "%%time \n",
        "\"\"\"\n",
        "Thus, we can form from matrix M a signature matrix, in which\n",
        "the ith column of M is replaced by the minhash signature for (the set of) the\n",
        "ith column.\n",
        "Note that the signature matrix has the same number of columns as M but\n",
        "only n rows. Even if M is not represented explicitly, but in some compressed\n",
        "form suitable for a sparse matrix (e.g., by the locations of its 1’s), it is normal\n",
        "for the signature matrix to be much smaller than M\n",
        "\"\"\"\n",
        "\n",
        "# CREATE COEFFICIENTS FOR HASHFUNCTIONS\n",
        "coeffs = createMinHashCoeff(100)\n",
        "\n",
        "def signMatrix(minHashRow,charMatrix,coeffList):\n",
        "  #use either : f\"h(x)=({x[0]}*x + {x[1]} % {x[2]}\" or h[i] as keystr \n",
        "  #keystr = signMat = pd.DataFrame([f\"h({i})\" for i in range(1,len(coeffList)+1)], columns=[\"hashfunction\"])\n",
        "  signMat = pd.DataFrame([])\n",
        "  for e in charMatrix.columns[1:]:\n",
        "    charM = charMatrix \n",
        "    signMat[e] = minHashRow(charM[\"shingle\"].values,charM[e],charM.index, coeffList)\n",
        "  return signMat\n",
        "\n",
        "signMat = signMatrix(createMinHashRow, cM,coeffs)\n",
        "print(signMat)"
      ],
      "metadata": {
        "colab": {
          "base_uri": "https://localhost:8080/"
        },
        "id": "Lyv8soH8Mm0A",
        "outputId": "b7d5a38c-61ef-4ad6-b5e6-600b9fd009aa"
      },
      "execution_count": 12,
      "outputs": [
        {
          "output_type": "stream",
          "name": "stdout",
          "text": [
            "      s0    s1    s2    s3    s4    s5    s6     s7     s8     s9\n",
            "0    150  3564  3472  5761  7772  9093  9323   5613    729  12955\n",
            "1    859  3800   859   859  7969   859  4010   6047   1000    859\n",
            "2   1674  3499  4218  6307  7649  8379  9514   6307   1674  13110\n",
            "3    923  3644  4608  6838  7653  1684  9597  10661  12255   9597\n",
            "4   1381  2707  1790  2707  3765  8376  9300   1790   4931   3311\n",
            "..   ...   ...   ...   ...   ...   ...   ...    ...    ...    ...\n",
            "95   912   982  4358  4616  7976  4358  7793  10728   4616   4616\n",
            "96   213  3030  3014  6938  7447  8681  5184   6938   3014  13425\n",
            "97   293  3606  4982  4085  7938  8374  9550  11347   6079  12738\n",
            "98  1622  2921   689  1622  1225   689  9437  10118   2921  13205\n",
            "99  1482  1348  3855  6132  1348  1348  9609   1348   1348   1348\n",
            "\n",
            "[100 rows x 10 columns]\n",
            "CPU times: user 6.89 s, sys: 0 ns, total: 6.89 s\n",
            "Wall time: 7.6 s\n"
          ]
        }
      ]
    },
    {
      "cell_type": "markdown",
      "source": [
        "#### 4. Compare Signatures \n",
        "A class CompareSignatures estimates the similarity of two integer vectors – minhash signatures – as a fraction of components in which they agree."
      ],
      "metadata": {
        "id": "bX6t8dKoeyct"
      }
    },
    {
      "cell_type": "code",
      "source": [
        "def getSigSim(a,b): \n",
        "  assert len(a) == len(b)\n",
        "  count = 0\n",
        "  for i in zip(a,b):\n",
        "     if i[0] == i[1]: count +=1 \n",
        "  return count / len(a)\n",
        "\n",
        "\n",
        "sh1 = signMat[\"s0\"].values; sh2 = signMat[\"s1\"].values\n",
        "sp1 = signMatPer[\"s0\"].values; sp2 = signMatPer[\"s1\"].values\n",
        "\n",
        "sH = getSigSim(sh1,sh2)\n",
        "sP = getSigSim(sp1,sp2)\n",
        "# Estimates are often similiar. \n",
        "# sh and sP are changing, depending on randomness.\n",
        "\n",
        "print(sH, sP, \"for jacSim:\",calculateSimJac(cM,1,2, p=False))\n",
        "#For 300 hashfunctions / permutations 0.12056737588652482 0.10909090909090909\n",
        "#For 600 hashfunctions / permutations 0.14145383104125736 0.08548707753479125\n",
        "#For 100 hashfunctions / permutations 0.10204081632653061 0.10309278350515463\n",
        "\n",
        "\n",
        "#With test matrix\n",
        "coeffs_test = createMinHashCoeff(1000)\n",
        "signMatTest = signMatrix(createMinHashRow, cM_test_1,coeffs_test)\n",
        "signMatPerTest = signMatrixPermutations(cM_test_1,1000,createPermSignVect) \n",
        "\n",
        "sht1 = signMatTest[\"s0\"].values; sht2 = signMatTest[\"s1\"].values;  sht3 = signMatTest[\"s2\"].values\n",
        "spt1 = signMatPerTest[\"s0\"].values; spt2 = signMatPerTest[\"s1\"].values;  spt3 = signMatPerTest[\"s2\"].values\n",
        "\n",
        "sHt = getSigSim(sht1,sht2)\n",
        "sPt = getSigSim(spt1,spt2)\n",
        "\n",
        "#Checking is similar values are similar. \n",
        "print(sHt, sPt, \"for jacSim:\",calculateSimJac(cM_test_1,1,2, p=False))\n",
        "#For mostly similiar strings: \n",
        "sHt1 = getSigSim(sht1,sht3)\n",
        "sPt1 = getSigSim(spt1,spt3)\n",
        "print(\"NOTE, we set a very high  hash / permutation number for test --> very accurate resutls\")\n",
        "print(sHt1, sPt1, \"for jacSim:\",calculateSimJac(cM_test_1,1,3, p=False))"
      ],
      "metadata": {
        "colab": {
          "base_uri": "https://localhost:8080/"
        },
        "id": "FytBq3CP7TOx",
        "outputId": "4add69ad-a063-4adb-a4b0-13dba1939f85"
      },
      "execution_count": 18,
      "outputs": [
        {
          "output_type": "stream",
          "name": "stdout",
          "text": [
            "0.01 0.05 for jacSim: 0.08534031413612565\n",
            "1.0 1.0 for jacSim: 1.0\n",
            "NOTE, we set a very high  hash / permutation number for test --> very accurate resutls\n",
            "0.414 0.411 for jacSim: 0.3956043956043956\n"
          ]
        }
      ]
    },
    {
      "cell_type": "markdown",
      "source": [
        "### Locality Sensitive Hashing (LSH)\n",
        "\n",
        "(Optional task for extra 2 bonus points) A class LSH that implements the LSH technique: given a collection of minhash signatures (integer vectors) and a similarity threshold t, the LSH class (using banding and hashing) finds candidate pairs of signatures agreeing on at least a fraction t of their components."
      ],
      "metadata": {
        "id": "sHb9yAVc-mDn"
      }
    },
    {
      "cell_type": "code",
      "source": [
        "#check https://www.youtube.com/watch?v=e_SBq3s20M8&ab_channel=JamesBriggs @ 21min\n",
        "def splitVec(vec,b,r): \n",
        "  assert len(vec) % b == 0\n",
        "  assert len(vec) / b % r == 0\n",
        "  subvecs = []\n",
        "  for i in range(0,len(vec)-1,r):\n",
        "    subvecs.append(vec[i:i+r])\n",
        "  return subvecs\n",
        "    \n",
        "#BBC - for hashMatrix\n",
        "b1 = splitVec(signMat[\"s1\"].values,20,5)\n",
        "b2 = splitVec(signMat[\"s2\"].values,20,5)\n",
        "\n",
        "# for testdata\n",
        "t1 = splitVec(signMatTest[\"s1\"].values,20,5)\n",
        "t2 = splitVec(signMatTest[\"s2\"].values,20,5)\n",
        "print(t1)"
      ],
      "metadata": {
        "id": "Ho0asR4Z7dkf",
        "colab": {
          "base_uri": "https://localhost:8080/"
        },
        "outputId": "233bd955-a9d0-4463-80e4-846ed503830a"
      },
      "execution_count": 22,
      "outputs": [
        {
          "output_type": "stream",
          "name": "stdout",
          "text": [
            "[array([21, 34, 40, 35, 45]), array([ 8, 37, 33, 31, 20]), array([23, 21, 54, 18, 12]), array([25, 14, 40, 33,  2]), array([50, 10, 32,  3, 33]), array([38,  1, 48, 15, 53]), array([20,  2, 22, 16, 26]), array([55, 40,  9, 23, 14]), array([18, 14, 25, 46, 54]), array([11, 56, 31, 33, 41]), array([42, 22, 15, 55,  3]), array([52, 23, 44, 12, 41]), array([23,  5,  2,  3, 29]), array([51, 49, 51, 33, 17]), array([24,  4, 33, 43, 19]), array([ 5, 55, 22, 55,  6]), array([41,  0, 19, 45, 12]), array([17, 48, 42, 14, 29]), array([37, 47, 52, 35,  8]), array([25, 56, 22, 30, 32]), array([43, 11, 16, 21, 23]), array([18, 24, 42, 25,  9]), array([56, 46, 35, 32, 44]), array([ 3, 25, 23, 17, 14]), array([32, 56, 31, 26, 35]), array([ 6, 32, 48, 54, 53]), array([31, 11,  1, 47, 25]), array([16, 40,  8, 19, 29]), array([ 0, 41, 43, 25, 19]), array([33, 21, 54, 14, 40]), array([12, 27, 44, 52, 23]), array([ 5, 14, 11, 36, 39]), array([ 4, 47, 26, 43, 54]), array([56, 34, 34,  3, 15]), array([36, 16,  0, 28,  3]), array([ 9, 34,  7,  7, 10]), array([47, 11, 42, 40, 15]), array([36, 12, 30, 13,  5]), array([26,  5, 27, 42, 38]), array([19, 15, 22, 21, 44]), array([55, 44, 51,  9, 27]), array([25, 36,  6, 23, 50]), array([ 8, 35, 23, 47, 44]), array([18, 37, 51, 54, 17]), array([ 4, 36, 18, 51, 16]), array([29, 37,  8, 17, 52]), array([ 0,  9,  7, 38, 14]), array([32, 21, 23, 25, 40]), array([41,  6,  0, 21, 40]), array([51, 22, 28, 26, 34]), array([ 0, 50, 56, 49, 53]), array([48, 21, 19, 30, 37]), array([27, 27, 13, 30,  3]), array([21, 51, 45, 11, 51]), array([33,  0, 10, 37,  2]), array([51, 38, 36, 12, 40]), array([20,  3, 37, 10,  5]), array([35, 25,  0, 21, 32]), array([34, 24, 33, 41, 25]), array([41, 44, 44,  9, 24]), array([ 8, 54,  3, 31, 22]), array([54, 49, 20, 55, 29]), array([ 0, 14, 20, 11, 39]), array([ 0, 16, 31, 51, 52]), array([35, 33, 36, 39, 39]), array([29, 31, 44, 27, 14]), array([25, 11, 51, 52, 42]), array([30, 51, 47, 29,  1]), array([43, 27, 38, 51, 56]), array([26, 55, 28, 41, 12]), array([ 1, 19,  1, 33, 40]), array([15, 35,  3, 27, 52]), array([37, 17, 14, 51, 38]), array([16, 18, 46, 47, 34]), array([41, 36, 27, 19, 16]), array([47, 13,  1, 18, 27]), array([46, 20,  8, 10, 12]), array([ 5, 39, 28,  8, 47]), array([ 2, 19, 32, 53, 47]), array([20, 39, 17, 12, 43]), array([55, 20, 33, 51, 18]), array([23, 56, 50, 32,  2]), array([53,  1, 16,  5, 17]), array([23, 55,  0,  4, 33]), array([29,  5, 27, 50,  6]), array([11, 29, 36, 32, 18]), array([54, 31, 21, 28, 17]), array([28, 50, 35,  2, 28]), array([54, 16, 32, 28, 31]), array([ 2, 35,  0, 38, 38]), array([50,  6,  3, 37, 38]), array([51, 33, 32, 19, 15]), array([43, 18, 15, 34, 37]), array([ 7, 45, 15, 35, 40]), array([ 2,  1, 21, 52, 30]), array([10, 49, 31, 11,  6]), array([30, 27,  3, 13, 30]), array([16, 48, 16, 19, 42]), array([35, 47, 11,  0, 12]), array([21,  1, 54, 14, 36]), array([56, 15, 31, 35, 43]), array([ 3, 32, 27, 52,  7]), array([47, 37, 38, 22, 42]), array([35, 43, 23, 29, 44]), array([30, 33, 28, 15, 11]), array([12, 21, 24, 12, 10]), array([56, 18, 22, 17, 26]), array([40, 44, 56, 23,  2]), array([55,  6, 32, 39, 13]), array([20, 18,  0, 10, 24]), array([ 3, 44, 36, 49, 22]), array([44,  2, 27, 11, 15]), array([38, 53, 17, 40, 21]), array([53, 12, 20, 12, 18]), array([33,  5, 24,  1, 48]), array([19, 39, 28, 16, 24]), array([48, 20, 36, 36,  8]), array([41, 30, 37, 37, 19]), array([42, 25, 46, 35, 31]), array([51, 27, 40, 47, 13]), array([38, 35, 12, 49, 33]), array([42, 34, 33, 28, 14]), array([ 2, 40, 22, 41, 42]), array([ 9, 13, 29,  6, 32]), array([34, 54, 18, 54, 39]), array([37, 17, 22, 46, 41]), array([16, 40, 21, 47, 34]), array([33, 15, 38,  9, 14]), array([53, 26, 33, 27, 27]), array([55, 32, 28,  9, 38]), array([28, 18, 31,  7, 24]), array([44, 19, 35,  1, 21]), array([30, 45,  4, 39,  9]), array([42, 44, 22, 13, 18]), array([29, 18, 31, 16, 56]), array([46, 32,  5, 45,  8]), array([35, 37, 56,  0, 22]), array([21, 35, 21, 20, 56]), array([47, 43, 32, 24, 38]), array([27, 38, 28, 14, 28]), array([52, 36, 21, 10, 18]), array([12,  6, 52,  2, 50]), array([52, 53, 13, 25, 41]), array([46, 20, 52, 28, 27]), array([51, 56,  6,  7, 29]), array([10, 53, 22, 52, 37]), array([42, 16, 52, 11, 56]), array([37, 42,  0, 18, 19]), array([37, 21, 25, 16, 44]), array([14, 36,  6, 13, 47]), array([53,  8, 13, 23, 16]), array([19, 28,  9, 24, 21]), array([ 4,  5, 53, 39, 52]), array([27, 50, 35,  5,  1]), array([ 8, 20, 34, 12,  7]), array([10,  6, 52, 50, 36]), array([55, 54, 13, 12, 26]), array([16, 15, 13, 39, 31]), array([26, 10, 45, 54, 12]), array([55, 33, 35, 48, 36]), array([23,  3, 37,  1, 39]), array([ 7,  7, 30, 28, 12]), array([16, 56,  7, 38, 39]), array([13, 18,  1,  3,  5]), array([25,  9, 39, 31, 43]), array([27, 36, 36,  3, 37]), array([13, 48,  8, 50, 54]), array([41,  1, 17,  1, 11]), array([23, 45, 33,  4, 25]), array([55,  0, 20, 51, 54]), array([47, 44, 56, 25, 45]), array([38, 23, 12, 14, 44]), array([ 9, 50, 29, 53, 33]), array([10, 55, 24, 23, 32]), array([50, 29, 12,  0, 55]), array([17, 40, 21, 18, 44]), array([22, 49,  4, 31,  2]), array([16, 15, 46,  1, 36]), array([ 0, 35, 35, 43,  0]), array([ 5, 43, 55, 50, 33]), array([43, 20, 53, 37, 53]), array([23, 43, 23, 14,  7]), array([28, 54, 22, 31, 30]), array([ 8, 32, 35, 49, 22]), array([28, 21, 48, 37, 19]), array([22, 19, 54, 49, 56]), array([27, 25, 29, 54,  0]), array([18, 46, 14, 48, 31]), array([53,  5, 40, 52,  9]), array([52, 20, 43,  1,  1]), array([48,  0, 31, 44,  7]), array([33, 25,  6, 15, 21]), array([32,  0,  9, 47, 43]), array([10, 55, 11, 50, 56]), array([26,  5, 20, 50, 55]), array([ 3, 49, 22,  1, 11]), array([34, 30, 16, 38, 27]), array([44, 36,  6, 43, 54]), array([53, 38, 17, 52, 24]), array([55, 52, 22, 19, 39])]\n"
          ]
        }
      ]
    },
    {
      "cell_type": "code",
      "source": [
        "def getCandidatePairs(v1,v2, t):\n",
        "  assert len(v1) == len(v2)\n",
        "  for e in zip(v1,v2): \n",
        "    # we can reuse getSigSim / used for comparing whole signatures\n",
        "    if getSigSim(e[0],e[1]) > t: \n",
        "      return True\n",
        "  return False\n",
        "\n",
        "#is candidate pair? \n",
        "# BBC \n",
        "print(\"t = 0.5\",getCandidatePairs(b1,b2,0.5), \"| t = 0.1\",getCandidatePairs(b1,b2,0.1))\n",
        "# Testdata\n",
        "print(\"t = 0.9\",getCandidatePairs(t1,t2,0.99), \"| t = 0.1\",getCandidatePairs(t1,t2,0.1))"
      ],
      "metadata": {
        "colab": {
          "base_uri": "https://localhost:8080/"
        },
        "id": "ajQACKf3-eRg",
        "outputId": "55f644c7-6cfb-4c60-c648-accae82007c5"
      },
      "execution_count": 21,
      "outputs": [
        {
          "output_type": "stream",
          "name": "stdout",
          "text": [
            "t = 0.5 False | t = 0.1 True\n",
            "t = 0.9 True | t = 0.1 True\n"
          ]
        }
      ]
    },
    {
      "cell_type": "markdown",
      "source": [
        "#### Testprogramm"
      ],
      "metadata": {
        "id": "dylAvCC0uUSZ"
      }
    },
    {
      "cell_type": "code",
      "source": [
        "''' def findSimilarDocuments(signMatrix,b,r,t): \n",
        "  similarItems = []\n",
        "  vecs  = [splitVec(signMatrix[e].values,b,r) for e in signMatrix.columns]\n",
        "  for i in range(len(vecs)):\n",
        "    for j in range(i+1,len(vecs)): \n",
        "      #print(i,j) \n",
        "      if getCandidatePairs(vecs[i],vecs[j],t):\n",
        "        similarItems.append({i:j})\n",
        "  return similarItems\n",
        "\n",
        "\n",
        "sI = findSimilarDocuments(signMat,20,5,0.75)\n",
        "print(sI) '''\n",
        "\n",
        "def findSimilarDocuments(signMatrix, t): \n",
        "  similarItems = []\n",
        "\n",
        "  for i in range(len(signMatrix.columns)):\n",
        "    for j in range(i+1,len(signMatrix.columns)): \n",
        "      if getSigSim(signMatrix[\"s\"+str(i)].values, signMatrix[\"s\"+str(j)].values) > t: \n",
        "         similarItems.append({i:j})\n",
        "  return similarItems\n",
        "\n",
        "print(len(signMat.columns))\n",
        "sI010 = findSimilarDocuments(signMat,0.10)\n",
        "sI015 = findSimilarDocuments(signMat,0.15)\n",
        "sI030 = findSimilarDocuments(signMat,0.30)\n",
        "print(\"Similar Documents with 0.10 Similariy: \", sI010)\n",
        "print(\"Similar Documents with 0.15 Similariy :\", sI015)\n",
        "print(\"Similar Documents with 0.30 Similariy :\", sI030)"
      ],
      "metadata": {
        "colab": {
          "base_uri": "https://localhost:8080/"
        },
        "id": "-CVIdkZKuYs6",
        "outputId": "f0898eed-b370-4e09-bbb3-cab07989893b"
      },
      "execution_count": 81,
      "outputs": [
        {
          "output_type": "stream",
          "name": "stdout",
          "text": [
            "10\n",
            "Similar Documents with 0.10 Similariy:  [{0: 2}, {1: 2}, {1: 8}, {1: 9}, {2: 3}, {2: 5}, {2: 8}, {2: 9}, {3: 5}, {3: 9}, {5: 8}, {5: 9}, {7: 9}, {8: 9}]\n",
            "Similar Documents with 0.15 Similariy : [{2: 5}, {2: 9}, {7: 9}]\n",
            "Similar Documents with 0.30 Similariy : []\n"
          ]
        }
      ]
    }
  ]
}